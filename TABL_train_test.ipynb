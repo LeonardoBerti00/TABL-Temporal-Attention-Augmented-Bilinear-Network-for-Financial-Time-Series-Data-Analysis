{
  "cells": [
    {
      "cell_type": "markdown",
      "metadata": {
        "id": "P-PVsZeWjCiw"
      },
      "source": [
        "### **TABL**"
      ]
    },
    {
      "cell_type": "code",
      "execution_count": null,
      "metadata": {
        "colab": {
          "base_uri": "https://localhost:8080/"
        },
        "id": "AVPONVeVw0nh",
        "outputId": "d55458c0-ff0a-4f5e-b6c2-fa6bc0042695"
      },
      "outputs": [
        {
          "name": "stdout",
          "output_type": "stream",
          "text": [
            "Mounted at /content/drive\n"
          ]
        }
      ],
      "source": [
        "# load packages\n",
        "\n",
        "import numpy as np\n",
        "import matplotlib.pyplot as plt\n",
        "from datetime import datetime\n",
        "from tqdm import tqdm \n",
        "from sklearn.metrics import accuracy_score, classification_report, confusion_matrix, ConfusionMatrixDisplay\n",
        "import torch\n",
        "from torch.utils import data\n",
        "import torch.nn as nn\n",
        "import torch.optim as optim\n",
        "\n",
        "device = torch.device(\"cuda:0\" if torch.cuda.is_available() else \"cpu\")\n",
        " \n"
      ]
    },
    {
      "cell_type": "markdown",
      "metadata": {
        "id": "aNdy1u5zjMaw"
      },
      "source": [
        "### **Data**\n",
        "The dataset in the folder Dataset is the LI-2010 dataset zipped and normalized. 
        "As in the original paper I used the firs 7 days to train and to validate, and the rest 3 days to do the the testing."
      ]
    },
    {
      "cell_type": "code",
      "execution_count": null,
      "metadata": {
        "colab": {
          "base_uri": "https://localhost:8080/",
          "height": 91
        },
        "id": "ls5u0jngxkjl",
        "outputId": "b75a6e2d-a8c6-43b1-df4d-735ea850fc32"
      },
      "outputs": [
        {
          "name": "stdout",
          "output_type": "stream",
          "text": [
            "(203800, 40)\n"
          ]
        },
        {
          "data": {
            "application/vnd.google.colaboratory.intrinsic+json": {
              "type": "string"
            },
            "text/plain": [
              "'\\n#dec = dec[:10000]\\ntrain_size = int(0.70 * dec.shape[0])\\nval_size = int(0.15 * dec.shape[0])\\nprint(dec.shape)\\n\\ndec_train = dec[:train_size]\\ndec_val = dec[train_size:val_size+train_size]\\ndec_test = dec[val_size+train_size:]\\ntest_size = dec_test.shape[0]\\n\\nprint(dec_test.shape)\\n'"
            ]
          },
          "execution_count": 2,
          "metadata": {},
          "output_type": "execute_result"
        }
      ],
      "source": [
        "# please change the data_path to your local path and unzip the file\n",
        "\n",
        "#data_path = \"/content/drive/MyDrive/Data/DB2.npy\"\n",
        "#data_path =  \"/content/drive/MyDrive/Data/DB1_train.npy\"\n",
        "#data_path2 =  \"/content/drive/MyDrive/Data/DB1_test.npy\"\n",
        "#data_path3 = \"/content/drive/MyDrive/Data/DB1_label.npy\"\n",
        "#dec = np.load(data_path)\n",
        "\n",
        "dec_data = np.loadtxt('/content/drive/MyDrive/Data/Train_Dst_NoAuction_ZScore_CF_7.txt')\n",
        "dec_train = dec_data[:, :int(dec_data.shape[1] * 0.8)]\n",
        "dec_val = dec_data[:, int(dec_data.shape[1] * 0.8):]\n",
        "\n",
        "dec_test1 = np.loadtxt('/content/drive/MyDrive/Data/Test_Dst_NoAuction_ZScore_CF_7.txt')\n",
        "dec_test2 = np.loadtxt('/content/drive/MyDrive/Data/Test_Dst_NoAuction_ZScore_CF_8.txt')\n",
        "dec_test3 = np.loadtxt('/content/drive/MyDrive/Data/Test_Dst_NoAuction_ZScore_CF_9.txt')\n",
        "dec_test = np.hstack((dec_test1, dec_test2, dec_test3))\n",
        "\n",
        "\n",
        "\n",
        "'''\n",
        "train_size = int(0.70 * dec.shape[0])\n",
        "dec_train = dec[:train_size]\n",
        "dec_val = dec[train_size:]\n",
        "\n",
        "dec_test = np.load(data_path2)[:40, :].T\n",
        "'''\n",
        "\n",
        "horizon = 2        #if horizon = 5, than k = 10\n",
        "\n",
        "y_train = dec_train[-horizon, :].flatten()\n",
        "y_val = dec_val[-horizon, :].flatten()\n",
        "y_test = dec_test[-horizon, :].flatten()\n",
        "\n",
        "y_train = y_train[9:] - 1\n",
        "y_val = y_val[9:] - 1\n",
        "y_test = y_test[9:] - 1 \n",
        "\n",
        "dec_train = dec_train[:40, :].T\n",
        "dec_val = dec_val[:40, :].T\n",
        "dec_test = dec_test[:40, :].T\n",
        "\n",
        "print(dec_train.shape)\n",
        "'''\n",
        "#dec = dec[:10000]\n",
        "train_size = int(0.70 * dec.shape[0])\n",
        "val_size = int(0.15 * dec.shape[0])\n",
        "print(dec.shape)\n",
        "\n",
        "dec_train = dec[:train_size]\n",
        "dec_val = dec[train_size:val_size+train_size]\n",
        "dec_test = dec[val_size+train_size:]\n",
        "test_size = dec_test.shape[0]\n",
        "\n",
        "print(dec_test.shape)\n",
        "'''"
      ]
    },
    {
      "cell_type": "code",
      "execution_count": null,
      "metadata": {
        "id": "KspbKX4q8TRM"
      },
      "outputs": [],
      "source": [
        "#Label the data with the method explained in the thesis\n",
        "def labeling(X, T, dim):\n",
        "  \n",
        "  Y = np.zeros((X.shape[0] - dim - T + 1))\n",
        "  [N, D] = X.shape\n",
        "  print(N)\n",
        "  media = []\n",
        "  alpha = 0.00072\n",
        "\n",
        "  for i in range(0, X.shape[0]- dim-T + 1):\n",
        "    ask_minus = X[i-T+dim:i+dim, 0]\n",
        "    bid_minus = X[i-T+dim:i+dim, 2]\n",
        "    ask_plus = X[i+dim:i+dim+T, 0]\n",
        "    bid_plus = X[i+dim:i+dim+T, 2]\n",
        "    #print(ask_minus)\n",
        "    m_minus = (ask_minus + bid_minus) / 2\n",
        "    m_minus = np.sum(m_minus) / T\n",
        "    m_plus = (ask_plus + bid_plus) / 2\n",
        "    m_plus = np.sum(m_plus) / T\n",
        "    media.append((m_plus - m_minus) / m_minus)\n",
        "    if (m_plus - m_minus) / m_minus < -alpha:\n",
        "      label = 1\n",
        "    elif (m_plus - m_minus) / m_minus > alpha:\n",
        "      label = 0\n",
        "    else:\n",
        "      label = 2\n",
        "    Y[i] = label\n",
        "\n",
        "  plt.hist(Y)\n",
        "  plt.show()\n",
        "\n",
        "  return Y\n",
        "\n",
        "def labeling2(X, T, dim):\n",
        "\n",
        "  Y = np.zeros((X.shape[0] - dim-T + 1))\n",
        "  \n",
        "  alpha = 0.00072\n",
        "  media = []\n",
        "  for i in range(0, X.shape[0]- dim-T + 1):\n",
        "    ask_minus = X[i+dim-1, 0]\n",
        "    bid_minus = X[i+dim-1, 2]\n",
        "    ask_plus = X[i+dim:i+dim+T, 0]\n",
        "    bid_plus = X[i+dim:i+dim+T, 2]\n",
        "    pt = (ask_minus + bid_minus) / 2\n",
        "    m_plus = (ask_plus + bid_plus) / 2\n",
        "    m_plus = np.sum(m_plus) / T\n",
        "    media.append((m_plus - pt) / pt)\n",
        "    if (m_plus - pt) / pt <= -alpha:\n",
        "      label = 1\n",
        "    elif (m_plus - pt) / pt >= alpha:\n",
        "      label = 0\n",
        "    else:\n",
        "      label = 2\n",
        "    Y[i] = label\n",
        "\n",
        "  plt.hist(Y)\n",
        "  plt.show()\n",
        "\n",
        "  return Y\n"
      ]
    },
    {
      "cell_type": "code",
      "execution_count": null,
      "metadata": {
        "id": "8x7PAu1LySOZ"
      },
      "outputs": [],
      "source": [
        "class Dataset(data.Dataset):\n",
        "    \"\"\"Characterizes a dataset for PyTorch\"\"\"\n",
        "    def __init__(self, x, y, num_classes, n, dim):\n",
        "        \"\"\"Initialization\"\"\" \n",
        "        self.num_classes = num_classes\n",
        "        self.dim = dim\n",
        "        self.x = x   \n",
        "        self.y = y\n",
        "        self.n = n\n",
        "\n",
        "        self.length = x.shape[0] - (T/10) -self.dim + 1\n",
        "        print(self.length)\n",
        "\n",
        "        x = torch.from_numpy(x)\n",
        "        self.x = torch.unsqueeze(x, 1)\n",
        "        self.y = torch.from_numpy(y)\n",
        "\n",
        "    def __len__(self):\n",
        "        \"\"\"Denotes the total number of samples\"\"\"\n",
        "        return int(self.length)\n",
        "\n",
        "    def __getitem__(self, i):\n",
        "        input = self.x[i:i+self.dim, :]\n",
        "        input = input.permute(1, 2, 0)\n",
        "        input = torch.squeeze(input)\n",
        "\n",
        "        return input, self.y[i]"
      ]
    },
    {
      "cell_type": "code",
      "execution_count": null,
      "metadata": {
        "colab": {
          "base_uri": "https://localhost:8080/"
        },
        "id": "7ndByE-Ajmq8",
        "outputId": "9b68ee43-4e8d-4483-c284-512fb31797e8"
      },
      "outputs": [
        {
          "name": "stdout",
          "output_type": "stream",
          "text": [
            "50936.0\n",
            "139573.0\n",
            "203786.0\n"
          ]
        }
      ],
      "source": [
        "#Hyperparameters\n",
        "\n",
        "batch_size = 256\n",
        "epochs = 200\n",
        "T = 50   #horizon    \n",
        "lr = 0.01\n",
        "num_classes = 3\n",
        "dim = 10\n",
        "n = 3 \n",
        "\n",
        "#y_val = labeling(dec_val, T, dim)\n",
        "#y_test = labeling(dec_test, T, dim)\n",
        "#y_train = labeling(dec_train, T, dim)\n",
        "\n",
        "dataset_val = Dataset(dec_val, y_val, num_classes, n, dim)\n",
        "dataset_test = Dataset(dec_test, y_test, num_classes, n, dim)\n",
        "dataset_train = Dataset(dec_train, y_train, num_classes, n, dim)\n",
        "\n",
        "train_loader = torch.utils.data.DataLoader(dataset=dataset_train, batch_size=batch_size, shuffle=True)\n",
        "val_loader = torch.utils.data.DataLoader(dataset=dataset_val, batch_size=batch_size, shuffle=False)\n",
        "test_loader = torch.utils.data.DataLoader(dataset=dataset_test, batch_size=batch_size, shuffle=False)"
      ]
    },
    {
      "cell_type": "markdown",
      "metadata": {
        "id": "DEIIi2NwjtgC"
      },
      "source": [
        "### **Model Architecture**\n",
        "The Architecture of the DCNN is composed of 9 convolutional layers, subsequently there is an inception module composed of 5 parts, each part is made up of 2 convolutional layers, which however are not applied sequentially but each receives in input, the output of the last of the 9 convolutional layers and subsequently all the outputs of each part of the inception module are concatenated and passed in input to the LSTM layer, which has a hidden size of 64. The activation function used is LeakyReLU. The model in total has 1,717,475 parameters."
      ]
    },
    {
      "cell_type": "code",
      "execution_count": null,
      "metadata": {
        "id": "lhA2p2kcUj2q"
      },
      "outputs": [],
      "source": [
        "class weightConstraint(object):\n",
        "    def __init__(self):\n",
        "        pass\n",
        "    \n",
        "    def __call__(self,module):\n",
        "        if hasattr(module,'weight'):\n",
        "            print(\"Entered\")\n",
        "            w=module.weight.data\n",
        "            norm = w.norm(2, dim=0, keepdim=True)\n",
        "            desired = torch.clamp(norm, min=0.0, max=3.0)\n",
        "            w *= (desired / (1e-8 + norm)) \n",
        "            module.weight.data=w       \n",
        "\n",
        "\n",
        "class TABL_layer(nn.Module):\n",
        "    def __init__(self, d2, d1, t1, t2):\n",
        "        super().__init__()\n",
        "        self.t1 = t1\n",
        "\n",
        "        weight = torch.Tensor(d2, d1)\n",
        "        self.W1 = nn.Parameter(weight)\n",
        "        nn.init.kaiming_uniform_(self.W1, nonlinearity='relu')\n",
        "        \n",
        "        weight2 = torch.Tensor(t1, t1)\n",
        "        self.W2 = nn.Parameter(weight2)\n",
        "        nn.init.constant_(self.W2, 1/t1)\n",
        " \n",
        "        weight3 = torch.Tensor(t1, t2)\n",
        "        self.W3 = nn.Parameter(weight3)\n",
        "        nn.init.kaiming_uniform_(self.W3, nonlinearity='relu')\n",
        "\n",
        "        bias1 = torch.Tensor(d2, t2)\n",
        "        self.B = nn.Parameter(bias1)\n",
        "        nn.init.constant_(self.B, 0)\n",
        "\n",
        "        l = torch.Tensor(1,)\n",
        "        self.l = nn.Parameter(l)\n",
        "        nn.init.constant_(self.l, 0.5)\n",
        "\n",
        "        self.activation = nn.ReLU()\n",
        "\n",
        "    def forward(self, X):\n",
        "        #print(self.l)\n",
        "        if (self.l[0] < 0): \n",
        "          l = torch.Tensor(1,)\n",
        "          self.l = nn.Parameter(l)\n",
        "          nn.init.constant_(self.l, 0.0)\n",
        "\n",
        "        if (self.l[0] > 1): \n",
        "          l = torch.Tensor(1,)\n",
        "          self.l = nn.Parameter(l)\n",
        "          nn.init.constant_(self.l, 1.0)\n",
        "        #print(self.l[0])\n",
        "        X = self.W1 @ X\n",
        "\n",
        "        # enforcing constant (1) on the diagonal\n",
        "        W2 = self.W2 -self.W2 *torch.eye(self.t1,dtype=torch.float32).to(device)+torch.eye(self.t1,dtype=torch.float32).to(device)/self.t1\n",
        "\n",
        "        E = X @ self.W2\n",
        "        #print(E.shape)\n",
        "        A = torch.softmax(E, dim=-1)\n",
        "        X = self.l[0] * (X) + (1.0 - self.l[0])*X*A\n",
        "        y = X @ self.W3 + self.B\n",
        "        return y\n",
        "\n",
        "class BL_layer(nn.Module):\n",
        "  def __init__(self, d2, d1, t1, t2):\n",
        "        super().__init__()\n",
        "        weight1 = torch.Tensor(d2, d1)\n",
        "        self.W1 = nn.Parameter(weight1)\n",
        "        nn.init.kaiming_uniform_(self.W1, nonlinearity='relu')\n",
        "\n",
        "        weight2 = torch.Tensor(t1, t2)\n",
        "        self.W2 = nn.Parameter(weight2)\n",
        "        nn.init.kaiming_uniform_(self.W2, nonlinearity='relu')\n",
        "\n",
        "        bias1 = torch.zeros((d2, t2))\n",
        "        self.B = nn.Parameter(bias1)\n",
        "        nn.init.constant_(self.B, 0)\n",
        "\n",
        "        self.activation = nn.ReLU()\n",
        "\n",
        "  def forward(self, x):\n",
        "        \n",
        "    x = self.activation(self.W1 @ x @ self.W2 + self.B)\n",
        "\n",
        "    return x\n",
        "\n",
        "\n",
        "class BTABL(nn.Module):\n",
        "  def __init__(self, d2, d1, t1, t2, d3, t3):\n",
        "    super().__init__()\n",
        "\n",
        "    self.BL = BL_layer(d2, d1, t1, t2)\n",
        "    self.TABL = TABL_layer(d3, d2, t2, t3)\n",
        "    self.dropout = nn.Dropout(0.1)\n",
        "\n",
        "  def forward(self, x):\n",
        "\n",
        "    x = self.BL(x)\n",
        "    x = self.dropout(x)\n",
        "    x = self.TABL(x)\n",
        "    x = torch.squeeze(x)\n",
        "    x = torch.softmax(x, 1)\n",
        "    return x\n",
        "\n",
        "\n",
        "class CTABL(nn.Module):\n",
        "  def __init__(self, d2, d1, t1, t2, d3, t3, d4, t4):\n",
        "    super().__init__()\n",
        "    self.BL = BL_layer(d2, d1, t1, t2)\n",
        "    self.BL2 = BL_layer(d3, d2, t2, t3)\n",
        "    self.TABL = TABL_layer(d4, d3, t3, t4)\n",
        "    self.dropout = nn.Dropout(0.1)\n",
        "\n",
        "  def forward(self, x):\n",
        " \n",
        "    x = self.BL(x)\n",
        "    x = self.dropout(x)\n",
        "    \n",
        "    x = self.BL2(x)\n",
        "    x = self.dropout(x)\n",
        "\n",
        "    x = self.TABL(x)\n",
        "    x = torch.squeeze(x)\n",
        "    x = torch.softmax(x, 1)\n",
        "    return x\n",
        "    "
      ]
    },
    {
      "cell_type": "markdown",
      "metadata": {
        "id": "bejZgDmCkkHi"
      },
      "source": [
        "### **Model Training**"
      ]
    },
    {
      "cell_type": "code",
      "execution_count": null,
      "metadata": {
        "id": "s_u5esKfTT-S"
      },
      "outputs": [],
      "source": [
        "model = BTABL(120, 40, 10, 5, 3, 1)\n",
        "model = CTABL(60, 40, 10, 10, 120, 5, 3, 1)\n",
        "\n",
        "model.to(device)\n",
        "constraint = weightConstraint()\n",
        "model.apply(constraint)              #we apply the max-norm, può essere che è sbagliato\n",
        "\n",
        "criterion = nn.CrossEntropyLoss()\n",
        "#optimizer = torch.optim.AdamW(model.parameters(), lr)\n",
        "#optimizer = torch.optim.Adam(model.parameters(), lr=0.01)\n",
        "optimizer = torch.optim.SGD(model.parameters(), lr=0.01, momentum=0.9)\n",
        "\n",
        "def batch_gd(model, criterion, optimizer, epochs):\n",
        "    \n",
        "    train_losses = np.zeros(epochs)\n",
        "    test_losses = np.zeros(epochs)\n",
        "    best_test_loss = np.inf\n",
        "    best_test_epoch = 0\n",
        "    SC = [0.005, 0.001, 0.0005, 0.0001]\n",
        "    i = 0\n",
        "    for it in tqdm(range(epochs)):\n",
        "        \n",
        "        model.train()\n",
        "        t0 = datetime.now()\n",
        "        train_loss = []\n",
        "        for inputs, targets in train_loader:\n",
        "            # move data to GPU\n",
        "            inputs, targets = inputs.to(device, dtype=torch.float), targets.to(device, dtype=torch.int64)\n",
        "\n",
        "            # zero the parameter gradients\n",
        "            optimizer.zero_grad()\n",
        "\n",
        "            # Forward pass\n",
        "            outputs = model(inputs)\n",
        "            #outputs = torch.squeeze(outputs)\n",
        "            #print(outputs.shape)\n",
        "            #print(targets.shape)\n",
        "            loss = criterion(outputs, targets)\n",
        "\n",
        "            # Backward and optimize\n",
        "            loss.backward()\n",
        "            optimizer.step()\n",
        "\n",
        "            train_loss.append(loss.item())\n",
        "        # Get train loss and test loss\n",
        "        train_loss = np.mean(train_loss)\n",
        "        \n",
        "        if (train_losses[it-1] <= train_loss and i < 4 and it != 0):\n",
        "              for g in optimizer.param_groups:\n",
        "                g['lr'] = SC[i]\n",
        "              i += 1\n",
        "              print(optimizer)\n",
        "\n",
        "        model.eval()\n",
        "        test_loss = []\n",
        "        for inputs, targets in val_loader:\n",
        "            inputs, targets = inputs.to(device, dtype=torch.float), targets.to(device, dtype=torch.int64)      \n",
        "            outputs = model(inputs)\n",
        "            #outputs = torch.squeeze(outputs)\n",
        "            loss = criterion(outputs, targets)\n",
        "            test_loss.append(loss.item())\n",
        "        test_loss = np.mean(test_loss)\n",
        "\n",
        "        # Save losses\n",
        "        train_losses[it] = train_loss\n",
        "        test_losses[it] = test_loss\n",
        "        \n",
        "        #We save the best model\n",
        "        if test_loss < best_test_loss:\n",
        "            torch.save(model, '/content/drive/MyDrive/Output/FI/best_model_CTABL_SGD_3')\n",
        "            best_test_loss = test_loss\n",
        "            best_test_epoch = it\n",
        "            print('model saved')\n",
        "\n",
        "        dt = datetime.now() - t0\n",
        "        print(f'Epoch {it+1}/{epochs}, Train Loss: {train_loss:.4f}, \\\n",
        "          Validation Loss: {test_loss:.4f}, Duration: {dt}, Best Val Epoch: {best_test_epoch}')\n",
        "        \n",
        "    #torch.save(model, '/content/drive/MyDrive/Output/best_model_translob_FI')\n",
        "    return train_losses, test_losses"
      ]
    },
    {
      "cell_type": "code",
      "execution_count": null,
      "metadata": {
        "colab": {
          "background_save": true,
          "base_uri": "https://localhost:8080/"
        },
        "id": "x9vq-ZAzTb6K",
        "outputId": "1038b107-5bb5-467f-8b47-76c282e1c5ce"
      },
      "outputs": [
        {
          "name": "stdout",
          "output_type": "stream",
          "text": [
            "------- List Hyper Parameters -------\n",
            "epochs   ->   200\n",
            "learningRate   ->   0.01\n",
            "horizon    ->     50\n",
            "batch size   ->    256\n",
            "Optimizer   ->    SGD (\n",
            "Parameter Group 0\n",
            "    dampening: 0\n",
            "    foreach: None\n",
            "    lr: 0.01\n",
            "    maximize: False\n",
            "    momentum: 0.9\n",
            "    nesterov: False\n",
            "    weight_decay: 0\n",
            ")\n"
          ]
        },
        {
          "name": "stderr",
          "output_type": "stream",
          "text": [
            "  0%|          | 1/200 [00:20<1:08:17, 20.59s/it]"
          ]
        },
        {
          "name": "stdout",
          "output_type": "stream",
          "text": [
            "model saved\n",
            "Epoch 1/200, Train Loss: 1.0218,           Validation Loss: 1.0056, Duration: 0:00:20.588321, Best Val Epoch: 0\n"
          ]
        },
        {
          "name": "stderr",
          "output_type": "stream",
          "text": [
            "\r  1%|          | 2/200 [00:40<1:06:42, 20.21s/it]"
          ]
        },
        {
          "name": "stdout",
          "output_type": "stream",
          "text": [
            "model saved\n",
            "Epoch 2/200, Train Loss: 0.9488,           Validation Loss: 0.9862, Duration: 0:00:19.948238, Best Val Epoch: 1\n"
          ]
        },
        {
          "name": "stderr",
          "output_type": "stream",
          "text": [
            "\r  2%|▏         | 3/200 [01:00<1:05:14, 19.87s/it]"
          ]
        },
        {
          "name": "stdout",
          "output_type": "stream",
          "text": [
            "model saved\n",
            "Epoch 3/200, Train Loss: 0.9300,           Validation Loss: 0.9789, Duration: 0:00:19.458983, Best Val Epoch: 2\n"
          ]
        },
        {
          "name": "stderr",
          "output_type": "stream",
          "text": [
            "\r  2%|▏         | 4/200 [01:19<1:04:15, 19.67s/it]"
          ]
        },
        {
          "name": "stdout",
          "output_type": "stream",
          "text": [
            "model saved\n",
            "Epoch 4/200, Train Loss: 0.9182,           Validation Loss: 0.9713, Duration: 0:00:19.351191, Best Val Epoch: 3\n"
          ]
        },
        {
          "name": "stderr",
          "output_type": "stream",
          "text": [
            "\r  2%|▎         | 5/200 [01:38<1:03:19, 19.48s/it]"
          ]
        },
        {
          "name": "stdout",
          "output_type": "stream",
          "text": [
            "model saved\n",
            "Epoch 5/200, Train Loss: 0.9083,           Validation Loss: 0.9670, Duration: 0:00:19.150479, Best Val Epoch: 4\n"
          ]
        },
        {
          "name": "stderr",
          "output_type": "stream",
          "text": [
            "\r  3%|▎         | 6/200 [01:57<1:02:05, 19.20s/it]"
          ]
        },
        {
          "name": "stdout",
          "output_type": "stream",
          "text": [
            "model saved\n",
            "Epoch 6/200, Train Loss: 0.9002,           Validation Loss: 0.9636, Duration: 0:00:18.657973, Best Val Epoch: 5\n"
          ]
        },
        {
          "name": "stderr",
          "output_type": "stream",
          "text": [
            "\r  4%|▎         | 7/200 [02:17<1:02:32, 19.44s/it]"
          ]
        },
        {
          "name": "stdout",
          "output_type": "stream",
          "text": [
            "model saved\n",
            "Epoch 7/200, Train Loss: 0.8922,           Validation Loss: 0.9595, Duration: 0:00:19.938624, Best Val Epoch: 6\n"
          ]
        },
        {
          "name": "stderr",
          "output_type": "stream",
          "text": [
            "\r  4%|▍         | 8/200 [02:35<1:01:25, 19.20s/it]"
          ]
        },
        {
          "name": "stdout",
          "output_type": "stream",
          "text": [
            "model saved\n",
            "Epoch 8/200, Train Loss: 0.8855,           Validation Loss: 0.9548, Duration: 0:00:18.662861, Best Val Epoch: 7\n"
          ]
        },
        {
          "name": "stderr",
          "output_type": "stream",
          "text": [
            "\r  4%|▍         | 9/200 [02:54<1:00:57, 19.15s/it]"
          ]
        },
        {
          "name": "stdout",
          "output_type": "stream",
          "text": [
            "model saved\n",
            "Epoch 9/200, Train Loss: 0.8806,           Validation Loss: 0.9544, Duration: 0:00:19.042500, Best Val Epoch: 8\n"
          ]
        },
        {
          "name": "stderr",
          "output_type": "stream",
          "text": [
            "\r  5%|▌         | 10/200 [03:13<1:00:20, 19.06s/it]"
          ]
        },
        {
          "name": "stdout",
          "output_type": "stream",
          "text": [
            "model saved\n",
            "Epoch 10/200, Train Loss: 0.8762,           Validation Loss: 0.9512, Duration: 0:00:18.847973, Best Val Epoch: 9\n"
          ]
        },
        {
          "name": "stderr",
          "output_type": "stream",
          "text": [
            "\r  6%|▌         | 11/200 [03:32<59:34, 18.91s/it]  "
          ]
        },
        {
          "name": "stdout",
          "output_type": "stream",
          "text": [
            "model saved\n",
            "Epoch 11/200, Train Loss: 0.8726,           Validation Loss: 0.9487, Duration: 0:00:18.586722, Best Val Epoch: 10\n"
          ]
        },
        {
          "name": "stderr",
          "output_type": "stream",
          "text": [
            "\r  6%|▌         | 12/200 [03:51<59:27, 18.98s/it]"
          ]
        },
        {
          "name": "stdout",
          "output_type": "stream",
          "text": [
            "Epoch 12/200, Train Loss: 0.8686,           Validation Loss: 0.9490, Duration: 0:00:19.118268, Best Val Epoch: 10\n"
          ]
        },
        {
          "name": "stderr",
          "output_type": "stream",
          "text": [
            "\r  6%|▋         | 13/200 [04:10<58:55, 18.91s/it]"
          ]
        },
        {
          "name": "stdout",
          "output_type": "stream",
          "text": [
            "model saved\n",
            "Epoch 13/200, Train Loss: 0.8659,           Validation Loss: 0.9461, Duration: 0:00:18.742983, Best Val Epoch: 12\n"
          ]
        },
        {
          "name": "stderr",
          "output_type": "stream",
          "text": [
            "\r  7%|▋         | 14/200 [04:29<58:45, 18.95s/it]"
          ]
        },
        {
          "name": "stdout",
          "output_type": "stream",
          "text": [
            "model saved\n",
            "Epoch 14/200, Train Loss: 0.8630,           Validation Loss: 0.9439, Duration: 0:00:19.058216, Best Val Epoch: 13\n"
          ]
        },
        {
          "name": "stderr",
          "output_type": "stream",
          "text": [
            "\r  8%|▊         | 15/200 [04:47<58:02, 18.83s/it]"
          ]
        },
        {
          "name": "stdout",
          "output_type": "stream",
          "text": [
            "Epoch 15/200, Train Loss: 0.8611,           Validation Loss: 0.9443, Duration: 0:00:18.530956, Best Val Epoch: 13\n"
          ]
        },
        {
          "name": "stderr",
          "output_type": "stream",
          "text": [
            "\r  8%|▊         | 16/200 [05:06<57:46, 18.84s/it]"
          ]
        },
        {
          "name": "stdout",
          "output_type": "stream",
          "text": [
            "model saved\n",
            "Epoch 16/200, Train Loss: 0.8586,           Validation Loss: 0.9418, Duration: 0:00:18.867473, Best Val Epoch: 15\n"
          ]
        },
        {
          "name": "stderr",
          "output_type": "stream",
          "text": [
            "\r  8%|▊         | 17/200 [05:25<57:26, 18.84s/it]"
          ]
        },
        {
          "name": "stdout",
          "output_type": "stream",
          "text": [
            "Epoch 17/200, Train Loss: 0.8566,           Validation Loss: 0.9421, Duration: 0:00:18.826385, Best Val Epoch: 15\n"
          ]
        },
        {
          "name": "stderr",
          "output_type": "stream",
          "text": [
            "\r  9%|▉         | 18/200 [05:44<57:22, 18.92s/it]"
          ]
        },
        {
          "name": "stdout",
          "output_type": "stream",
          "text": [
            "Epoch 18/200, Train Loss: 0.8549,           Validation Loss: 0.9443, Duration: 0:00:19.097688, Best Val Epoch: 15\n"
          ]
        },
        {
          "name": "stderr",
          "output_type": "stream",
          "text": [
            "\r 10%|▉         | 19/200 [06:04<58:12, 19.30s/it]"
          ]
        },
        {
          "name": "stdout",
          "output_type": "stream",
          "text": [
            "model saved\n",
            "Epoch 19/200, Train Loss: 0.8531,           Validation Loss: 0.9379, Duration: 0:00:20.186031, Best Val Epoch: 18\n"
          ]
        },
        {
          "name": "stderr",
          "output_type": "stream",
          "text": [
            "\r 10%|█         | 20/200 [06:23<57:35, 19.20s/it]"
          ]
        },
        {
          "name": "stdout",
          "output_type": "stream",
          "text": [
            "model saved\n",
            "Epoch 20/200, Train Loss: 0.8510,           Validation Loss: 0.9351, Duration: 0:00:18.966239, Best Val Epoch: 19\n"
          ]
        },
        {
          "name": "stderr",
          "output_type": "stream",
          "text": [
            "\r 10%|█         | 21/200 [06:42<57:04, 19.13s/it]"
          ]
        },
        {
          "name": "stdout",
          "output_type": "stream",
          "text": [
            "Epoch 21/200, Train Loss: 0.8498,           Validation Loss: 0.9353, Duration: 0:00:18.968015, Best Val Epoch: 19\n"
          ]
        },
        {
          "name": "stderr",
          "output_type": "stream",
          "text": [
            "\r 11%|█         | 22/200 [07:01<56:39, 19.10s/it]"
          ]
        },
        {
          "name": "stdout",
          "output_type": "stream",
          "text": [
            "model saved\n",
            "Epoch 22/200, Train Loss: 0.8483,           Validation Loss: 0.9314, Duration: 0:00:19.018818, Best Val Epoch: 21\n"
          ]
        },
        {
          "name": "stderr",
          "output_type": "stream",
          "text": [
            "\r 12%|█▏        | 23/200 [07:22<57:47, 19.59s/it]"
          ]
        },
        {
          "name": "stdout",
          "output_type": "stream",
          "text": [
            "model saved\n",
            "Epoch 23/200, Train Loss: 0.8468,           Validation Loss: 0.9313, Duration: 0:00:20.742692, Best Val Epoch: 22\n"
          ]
        },
        {
          "name": "stderr",
          "output_type": "stream",
          "text": [
            "\r 12%|█▏        | 24/200 [07:42<57:31, 19.61s/it]"
          ]
        },
        {
          "name": "stdout",
          "output_type": "stream",
          "text": [
            "model saved\n",
            "Epoch 24/200, Train Loss: 0.8454,           Validation Loss: 0.9304, Duration: 0:00:19.647054, Best Val Epoch: 23\n"
          ]
        },
        {
          "name": "stderr",
          "output_type": "stream",
          "text": [
            "\r 12%|█▎        | 25/200 [08:01<57:01, 19.55s/it]"
          ]
        },
        {
          "name": "stdout",
          "output_type": "stream",
          "text": [
            "model saved\n",
            "Epoch 25/200, Train Loss: 0.8435,           Validation Loss: 0.9281, Duration: 0:00:19.406500, Best Val Epoch: 24\n"
          ]
        },
        {
          "name": "stderr",
          "output_type": "stream",
          "text": [
            "\r 13%|█▎        | 26/200 [08:20<56:03, 19.33s/it]"
          ]
        },
        {
          "name": "stdout",
          "output_type": "stream",
          "text": [
            "model saved\n",
            "Epoch 26/200, Train Loss: 0.8434,           Validation Loss: 0.9248, Duration: 0:00:18.818172, Best Val Epoch: 25\n"
          ]
        },
        {
          "name": "stderr",
          "output_type": "stream",
          "text": [
            "\r 14%|█▎        | 27/200 [08:39<55:36, 19.28s/it]"
          ]
        },
        {
          "name": "stdout",
          "output_type": "stream",
          "text": [
            "Epoch 27/200, Train Loss: 0.8410,           Validation Loss: 0.9270, Duration: 0:00:19.173358, Best Val Epoch: 25\n"
          ]
        },
        {
          "name": "stderr",
          "output_type": "stream",
          "text": [
            "\r 14%|█▍        | 28/200 [08:59<55:34, 19.39s/it]"
          ]
        },
        {
          "name": "stdout",
          "output_type": "stream",
          "text": [
            "model saved\n",
            "Epoch 28/200, Train Loss: 0.8402,           Validation Loss: 0.9223, Duration: 0:00:19.631135, Best Val Epoch: 27\n"
          ]
        },
        {
          "name": "stderr",
          "output_type": "stream",
          "text": [
            "\r 14%|█▍        | 29/200 [09:18<55:37, 19.52s/it]"
          ]
        },
        {
          "name": "stdout",
          "output_type": "stream",
          "text": [
            "model saved\n",
            "Epoch 29/200, Train Loss: 0.8391,           Validation Loss: 0.9209, Duration: 0:00:19.806471, Best Val Epoch: 28\n"
          ]
        },
        {
          "name": "stderr",
          "output_type": "stream",
          "text": [
            "\r 15%|█▌        | 30/200 [09:38<55:07, 19.46s/it]"
          ]
        },
        {
          "name": "stdout",
          "output_type": "stream",
          "text": [
            "Epoch 30/200, Train Loss: 0.8381,           Validation Loss: 0.9211, Duration: 0:00:19.314430, Best Val Epoch: 28\n"
          ]
        },
        {
          "name": "stderr",
          "output_type": "stream",
          "text": [
            "\r 16%|█▌        | 31/200 [09:58<55:26, 19.68s/it]"
          ]
        },
        {
          "name": "stdout",
          "output_type": "stream",
          "text": [
            "model saved\n",
            "Epoch 31/200, Train Loss: 0.8373,           Validation Loss: 0.9189, Duration: 0:00:20.214703, Best Val Epoch: 30\n",
            "SGD (\n",
            "Parameter Group 0\n",
            "    dampening: 0\n",
            "    foreach: None\n",
            "    lr: 0.005\n",
            "    maximize: False\n",
            "    momentum: 0.9\n",
            "    nesterov: False\n",
            "    weight_decay: 0\n",
            ")\n"
          ]
        },
        {
          "name": "stderr",
          "output_type": "stream",
          "text": [
            "\r 16%|█▌        | 32/200 [10:17<54:58, 19.64s/it]"
          ]
        },
        {
          "name": "stdout",
          "output_type": "stream",
          "text": [
            "Epoch 32/200, Train Loss: 0.8375,           Validation Loss: 0.9193, Duration: 0:00:19.523560, Best Val Epoch: 30\n"
          ]
        },
        {
          "name": "stderr",
          "output_type": "stream",
          "text": [
            "\r 16%|█▋        | 33/200 [10:36<54:03, 19.42s/it]"
          ]
        },
        {
          "name": "stdout",
          "output_type": "stream",
          "text": [
            "model saved\n",
            "Epoch 33/200, Train Loss: 0.8349,           Validation Loss: 0.9159, Duration: 0:00:18.920611, Best Val Epoch: 32\n"
          ]
        },
        {
          "name": "stderr",
          "output_type": "stream",
          "text": [
            "\r 17%|█▋        | 34/200 [10:56<53:38, 19.39s/it]"
          ]
        },
        {
          "name": "stdout",
          "output_type": "stream",
          "text": [
            "model saved\n",
            "Epoch 34/200, Train Loss: 0.8341,           Validation Loss: 0.9159, Duration: 0:00:19.298401, Best Val Epoch: 33\n"
          ]
        },
        {
          "name": "stderr",
          "output_type": "stream",
          "text": [
            "\r 18%|█▊        | 35/200 [11:15<53:30, 19.46s/it]"
          ]
        },
        {
          "name": "stdout",
          "output_type": "stream",
          "text": [
            "Epoch 35/200, Train Loss: 0.8334,           Validation Loss: 0.9167, Duration: 0:00:19.624150, Best Val Epoch: 33\n"
          ]
        },
        {
          "name": "stderr",
          "output_type": "stream",
          "text": [
            "\r 18%|█▊        | 36/200 [11:35<53:16, 19.49s/it]"
          ]
        },
        {
          "name": "stdout",
          "output_type": "stream",
          "text": [
            "model saved\n",
            "Epoch 36/200, Train Loss: 0.8332,           Validation Loss: 0.9148, Duration: 0:00:19.556948, Best Val Epoch: 35\n"
          ]
        },
        {
          "name": "stderr",
          "output_type": "stream",
          "text": [
            "\r 18%|█▊        | 37/200 [11:54<53:02, 19.52s/it]"
          ]
        },
        {
          "name": "stdout",
          "output_type": "stream",
          "text": [
            "Epoch 37/200, Train Loss: 0.8322,           Validation Loss: 0.9170, Duration: 0:00:19.600733, Best Val Epoch: 35\n",
            "SGD (\n",
            "Parameter Group 0\n",
            "    dampening: 0\n",
            "    foreach: None\n",
            "    lr: 0.001\n",
            "    maximize: False\n",
            "    momentum: 0.9\n",
            "    nesterov: False\n",
            "    weight_decay: 0\n",
            ")\n"
          ]
        },
        {
          "name": "stderr",
          "output_type": "stream",
          "text": [
            "\r 19%|█▉        | 38/200 [12:14<52:30, 19.45s/it]"
          ]
        },
        {
          "name": "stdout",
          "output_type": "stream",
          "text": [
            "model saved\n",
            "Epoch 38/200, Train Loss: 0.8326,           Validation Loss: 0.9137, Duration: 0:00:19.281057, Best Val Epoch: 37\n"
          ]
        },
        {
          "name": "stderr",
          "output_type": "stream",
          "text": [
            "\r 20%|█▉        | 39/200 [12:34<52:47, 19.67s/it]"
          ]
        },
        {
          "name": "stdout",
          "output_type": "stream",
          "text": [
            "Epoch 39/200, Train Loss: 0.8305,           Validation Loss: 0.9139, Duration: 0:00:20.194740, Best Val Epoch: 37\n"
          ]
        },
        {
          "name": "stderr",
          "output_type": "stream",
          "text": [
            "\r 20%|██        | 40/200 [12:54<53:03, 19.90s/it]"
          ]
        },
        {
          "name": "stdout",
          "output_type": "stream",
          "text": [
            "model saved\n",
            "Epoch 40/200, Train Loss: 0.8302,           Validation Loss: 0.9130, Duration: 0:00:20.421523, Best Val Epoch: 39\n"
          ]
        },
        {
          "name": "stderr",
          "output_type": "stream",
          "text": [
            "\r 20%|██        | 41/200 [13:14<52:22, 19.76s/it]"
          ]
        },
        {
          "name": "stdout",
          "output_type": "stream",
          "text": [
            "Epoch 41/200, Train Loss: 0.8298,           Validation Loss: 0.9133, Duration: 0:00:19.439473, Best Val Epoch: 39\n",
            "SGD (\n",
            "Parameter Group 0\n",
            "    dampening: 0\n",
            "    foreach: None\n",
            "    lr: 0.0005\n",
            "    maximize: False\n",
            "    momentum: 0.9\n",
            "    nesterov: False\n",
            "    weight_decay: 0\n",
            ")\n"
          ]
        },
        {
          "name": "stderr",
          "output_type": "stream",
          "text": [
            "\r 21%|██        | 42/200 [13:33<51:24, 19.52s/it]"
          ]
        },
        {
          "name": "stdout",
          "output_type": "stream",
          "text": [
            "model saved\n",
            "Epoch 42/200, Train Loss: 0.8298,           Validation Loss: 0.9124, Duration: 0:00:18.962356, Best Val Epoch: 41\n"
          ]
        },
        {
          "name": "stderr",
          "output_type": "stream",
          "text": [
            "\r 22%|██▏       | 43/200 [13:53<51:22, 19.64s/it]"
          ]
        },
        {
          "name": "stdout",
          "output_type": "stream",
          "text": [
            "Epoch 43/200, Train Loss: 0.8298,           Validation Loss: 0.9127, Duration: 0:00:19.896497, Best Val Epoch: 41\n",
            "SGD (\n",
            "Parameter Group 0\n",
            "    dampening: 0\n",
            "    foreach: None\n",
            "    lr: 0.0001\n",
            "    maximize: False\n",
            "    momentum: 0.9\n",
            "    nesterov: False\n",
            "    weight_decay: 0\n",
            ")\n"
          ]
        },
        {
          "name": "stderr",
          "output_type": "stream",
          "text": [
            "\r 22%|██▏       | 44/200 [14:12<50:46, 19.53s/it]"
          ]
        },
        {
          "name": "stdout",
          "output_type": "stream",
          "text": [
            "Epoch 44/200, Train Loss: 0.8299,           Validation Loss: 0.9126, Duration: 0:00:19.283575, Best Val Epoch: 41\n"
          ]
        },
        {
          "name": "stderr",
          "output_type": "stream",
          "text": [
            "\r 22%|██▎       | 45/200 [14:31<50:06, 19.40s/it]"
          ]
        },
        {
          "name": "stdout",
          "output_type": "stream",
          "text": [
            "Epoch 45/200, Train Loss: 0.8298,           Validation Loss: 0.9126, Duration: 0:00:19.090497, Best Val Epoch: 41\n"
          ]
        },
        {
          "name": "stderr",
          "output_type": "stream",
          "text": [
            "\r 23%|██▎       | 46/200 [14:50<49:41, 19.36s/it]"
          ]
        },
        {
          "name": "stdout",
          "output_type": "stream",
          "text": [
            "Epoch 46/200, Train Loss: 0.8289,           Validation Loss: 0.9126, Duration: 0:00:19.272639, Best Val Epoch: 41\n"
          ]
        },
        {
          "name": "stderr",
          "output_type": "stream",
          "text": [
            "\r 24%|██▎       | 47/200 [15:09<48:54, 19.18s/it]"
          ]
        },
        {
          "name": "stdout",
          "output_type": "stream",
          "text": [
            "Epoch 47/200, Train Loss: 0.8292,           Validation Loss: 0.9126, Duration: 0:00:18.752257, Best Val Epoch: 41\n"
          ]
        },
        {
          "name": "stderr",
          "output_type": "stream",
          "text": [
            "\r 24%|██▍       | 48/200 [15:28<48:34, 19.17s/it]"
          ]
        },
        {
          "name": "stdout",
          "output_type": "stream",
          "text": [
            "Epoch 48/200, Train Loss: 0.8293,           Validation Loss: 0.9125, Duration: 0:00:19.152218, Best Val Epoch: 41\n"
          ]
        },
        {
          "name": "stderr",
          "output_type": "stream",
          "text": [
            "\r 24%|██▍       | 49/200 [15:47<48:07, 19.12s/it]"
          ]
        },
        {
          "name": "stdout",
          "output_type": "stream",
          "text": [
            "Epoch 49/200, Train Loss: 0.8288,           Validation Loss: 0.9124, Duration: 0:00:18.999682, Best Val Epoch: 41\n"
          ]
        },
        {
          "name": "stderr",
          "output_type": "stream",
          "text": [
            "\r 25%|██▌       | 50/200 [16:06<47:36, 19.04s/it]"
          ]
        },
        {
          "name": "stdout",
          "output_type": "stream",
          "text": [
            "Epoch 50/200, Train Loss: 0.8294,           Validation Loss: 0.9125, Duration: 0:00:18.854665, Best Val Epoch: 41\n"
          ]
        },
        {
          "name": "stderr",
          "output_type": "stream",
          "text": [
            "\r 26%|██▌       | 51/200 [16:25<47:27, 19.11s/it]"
          ]
        },
        {
          "name": "stdout",
          "output_type": "stream",
          "text": [
            "Epoch 51/200, Train Loss: 0.8293,           Validation Loss: 0.9124, Duration: 0:00:19.268949, Best Val Epoch: 41\n"
          ]
        },
        {
          "name": "stderr",
          "output_type": "stream",
          "text": [
            "\r 26%|██▌       | 52/200 [16:45<47:15, 19.16s/it]"
          ]
        },
        {
          "name": "stdout",
          "output_type": "stream",
          "text": [
            "model saved\n",
            "Epoch 52/200, Train Loss: 0.8292,           Validation Loss: 0.9123, Duration: 0:00:19.266714, Best Val Epoch: 51\n"
          ]
        },
        {
          "name": "stderr",
          "output_type": "stream",
          "text": [
            "\r 26%|██▋       | 53/200 [17:03<46:41, 19.06s/it]"
          ]
        },
        {
          "name": "stdout",
          "output_type": "stream",
          "text": [
            "Epoch 53/200, Train Loss: 0.8289,           Validation Loss: 0.9124, Duration: 0:00:18.828199, Best Val Epoch: 51\n"
          ]
        },
        {
          "name": "stderr",
          "output_type": "stream",
          "text": [
            "\r 27%|██▋       | 54/200 [17:23<46:34, 19.14s/it]"
          ]
        },
        {
          "name": "stdout",
          "output_type": "stream",
          "text": [
            "Epoch 54/200, Train Loss: 0.8290,           Validation Loss: 0.9124, Duration: 0:00:19.321179, Best Val Epoch: 51\n"
          ]
        },
        {
          "name": "stderr",
          "output_type": "stream",
          "text": [
            "\r 28%|██▊       | 55/200 [17:44<47:53, 19.81s/it]"
          ]
        },
        {
          "name": "stdout",
          "output_type": "stream",
          "text": [
            "Epoch 55/200, Train Loss: 0.8295,           Validation Loss: 0.9124, Duration: 0:00:21.386272, Best Val Epoch: 51\n"
          ]
        },
        {
          "name": "stderr",
          "output_type": "stream",
          "text": [
            "\r 28%|██▊       | 56/200 [18:04<47:22, 19.74s/it]"
          ]
        },
        {
          "name": "stdout",
          "output_type": "stream",
          "text": [
            "Epoch 56/200, Train Loss: 0.8302,           Validation Loss: 0.9124, Duration: 0:00:19.553803, Best Val Epoch: 51\n"
          ]
        },
        {
          "name": "stderr",
          "output_type": "stream",
          "text": [
            "\r 28%|██▊       | 57/200 [18:23<46:49, 19.64s/it]"
          ]
        },
        {
          "name": "stdout",
          "output_type": "stream",
          "text": [
            "Epoch 57/200, Train Loss: 0.8297,           Validation Loss: 0.9124, Duration: 0:00:19.422682, Best Val Epoch: 51\n"
          ]
        },
        {
          "name": "stderr",
          "output_type": "stream",
          "text": [
            "\r 29%|██▉       | 58/200 [18:43<46:23, 19.60s/it]"
          ]
        },
        {
          "name": "stdout",
          "output_type": "stream",
          "text": [
            "Epoch 58/200, Train Loss: 0.8298,           Validation Loss: 0.9124, Duration: 0:00:19.504158, Best Val Epoch: 51\n"
          ]
        },
        {
          "name": "stderr",
          "output_type": "stream",
          "text": [
            "\r 30%|██▉       | 59/200 [19:02<46:12, 19.66s/it]"
          ]
        },
        {
          "name": "stdout",
          "output_type": "stream",
          "text": [
            "Epoch 59/200, Train Loss: 0.8290,           Validation Loss: 0.9124, Duration: 0:00:19.805995, Best Val Epoch: 51\n"
          ]
        },
        {
          "name": "stderr",
          "output_type": "stream",
          "text": [
            "\r 30%|███       | 60/200 [19:22<45:54, 19.67s/it]"
          ]
        },
        {
          "name": "stdout",
          "output_type": "stream",
          "text": [
            "Epoch 60/200, Train Loss: 0.8284,           Validation Loss: 0.9123, Duration: 0:00:19.694191, Best Val Epoch: 51\n"
          ]
        },
        {
          "name": "stderr",
          "output_type": "stream",
          "text": [
            "\r 30%|███       | 61/200 [19:42<45:33, 19.66s/it]"
          ]
        },
        {
          "name": "stdout",
          "output_type": "stream",
          "text": [
            "model saved\n",
            "Epoch 61/200, Train Loss: 0.8293,           Validation Loss: 0.9123, Duration: 0:00:19.637492, Best Val Epoch: 60\n"
          ]
        },
        {
          "name": "stderr",
          "output_type": "stream",
          "text": [
            "\r 31%|███       | 62/200 [20:01<45:00, 19.57s/it]"
          ]
        },
        {
          "name": "stdout",
          "output_type": "stream",
          "text": [
            "model saved\n",
            "Epoch 62/200, Train Loss: 0.8283,           Validation Loss: 0.9122, Duration: 0:00:19.340124, Best Val Epoch: 61\n"
          ]
        },
        {
          "name": "stderr",
          "output_type": "stream",
          "text": [
            "\r 32%|███▏      | 63/200 [20:21<44:46, 19.61s/it]"
          ]
        },
        {
          "name": "stdout",
          "output_type": "stream",
          "text": [
            "model saved\n",
            "Epoch 63/200, Train Loss: 0.8292,           Validation Loss: 0.9122, Duration: 0:00:19.702395, Best Val Epoch: 62\n"
          ]
        },
        {
          "name": "stderr",
          "output_type": "stream",
          "text": [
            "\r 32%|███▏      | 64/200 [20:40<44:08, 19.48s/it]"
          ]
        },
        {
          "name": "stdout",
          "output_type": "stream",
          "text": [
            "model saved\n",
            "Epoch 64/200, Train Loss: 0.8291,           Validation Loss: 0.9122, Duration: 0:00:19.161897, Best Val Epoch: 63\n"
          ]
        },
        {
          "name": "stderr",
          "output_type": "stream",
          "text": [
            "\r 32%|███▎      | 65/200 [20:59<43:36, 19.38s/it]"
          ]
        },
        {
          "name": "stdout",
          "output_type": "stream",
          "text": [
            "Epoch 65/200, Train Loss: 0.8291,           Validation Loss: 0.9122, Duration: 0:00:19.165637, Best Val Epoch: 63\n"
          ]
        },
        {
          "name": "stderr",
          "output_type": "stream",
          "text": [
            "\r 33%|███▎      | 66/200 [21:18<42:55, 19.22s/it]"
          ]
        },
        {
          "name": "stdout",
          "output_type": "stream",
          "text": [
            "Epoch 66/200, Train Loss: 0.8292,           Validation Loss: 0.9123, Duration: 0:00:18.846614, Best Val Epoch: 63\n"
          ]
        },
        {
          "name": "stderr",
          "output_type": "stream",
          "text": [
            "\r 34%|███▎      | 67/200 [21:38<43:10, 19.48s/it]"
          ]
        },
        {
          "name": "stdout",
          "output_type": "stream",
          "text": [
            "Epoch 67/200, Train Loss: 0.8294,           Validation Loss: 0.9122, Duration: 0:00:20.061794, Best Val Epoch: 63\n"
          ]
        },
        {
          "name": "stderr",
          "output_type": "stream",
          "text": [
            "\r 34%|███▍      | 68/200 [21:58<42:51, 19.48s/it]"
          ]
        },
        {
          "name": "stdout",
          "output_type": "stream",
          "text": [
            "Epoch 68/200, Train Loss: 0.8286,           Validation Loss: 0.9122, Duration: 0:00:19.495609, Best Val Epoch: 63\n"
          ]
        },
        {
          "name": "stderr",
          "output_type": "stream",
          "text": [
            "\r 34%|███▍      | 69/200 [22:16<42:07, 19.29s/it]"
          ]
        },
        {
          "name": "stdout",
          "output_type": "stream",
          "text": [
            "model saved\n",
            "Epoch 69/200, Train Loss: 0.8294,           Validation Loss: 0.9122, Duration: 0:00:18.850570, Best Val Epoch: 68\n"
          ]
        },
        {
          "name": "stderr",
          "output_type": "stream",
          "text": [
            "\r 35%|███▌      | 70/200 [22:36<41:39, 19.23s/it]"
          ]
        },
        {
          "name": "stdout",
          "output_type": "stream",
          "text": [
            "Epoch 70/200, Train Loss: 0.8291,           Validation Loss: 0.9122, Duration: 0:00:19.070275, Best Val Epoch: 68\n"
          ]
        },
        {
          "name": "stderr",
          "output_type": "stream",
          "text": [
            "\r 36%|███▌      | 71/200 [22:54<41:07, 19.13s/it]"
          ]
        },
        {
          "name": "stdout",
          "output_type": "stream",
          "text": [
            "Epoch 71/200, Train Loss: 0.8290,           Validation Loss: 0.9123, Duration: 0:00:18.879289, Best Val Epoch: 68\n"
          ]
        },
        {
          "name": "stderr",
          "output_type": "stream",
          "text": [
            "\r 36%|███▌      | 72/200 [23:14<40:50, 19.15s/it]"
          ]
        },
        {
          "name": "stdout",
          "output_type": "stream",
          "text": [
            "Epoch 72/200, Train Loss: 0.8292,           Validation Loss: 0.9122, Duration: 0:00:19.197795, Best Val Epoch: 68\n"
          ]
        },
        {
          "name": "stderr",
          "output_type": "stream",
          "text": [
            "\r 36%|███▋      | 73/200 [23:33<40:33, 19.16s/it]"
          ]
        },
        {
          "name": "stdout",
          "output_type": "stream",
          "text": [
            "Epoch 73/200, Train Loss: 0.8286,           Validation Loss: 0.9122, Duration: 0:00:19.185199, Best Val Epoch: 68\n"
          ]
        },
        {
          "name": "stderr",
          "output_type": "stream",
          "text": [
            "\r 37%|███▋      | 74/200 [23:53<40:48, 19.43s/it]"
          ]
        },
        {
          "name": "stdout",
          "output_type": "stream",
          "text": [
            "model saved\n",
            "Epoch 74/200, Train Loss: 0.8291,           Validation Loss: 0.9121, Duration: 0:00:20.055638, Best Val Epoch: 73\n"
          ]
        },
        {
          "name": "stderr",
          "output_type": "stream",
          "text": [
            "\r 38%|███▊      | 75/200 [24:13<40:50, 19.60s/it]"
          ]
        },
        {
          "name": "stdout",
          "output_type": "stream",
          "text": [
            "model saved\n",
            "Epoch 75/200, Train Loss: 0.8293,           Validation Loss: 0.9121, Duration: 0:00:20.007435, Best Val Epoch: 74\n"
          ]
        },
        {
          "name": "stderr",
          "output_type": "stream",
          "text": [
            "\r 38%|███▊      | 76/200 [24:32<40:16, 19.49s/it]"
          ]
        },
        {
          "name": "stdout",
          "output_type": "stream",
          "text": [
            "Epoch 76/200, Train Loss: 0.8301,           Validation Loss: 0.9122, Duration: 0:00:19.211110, Best Val Epoch: 74\n"
          ]
        },
        {
          "name": "stderr",
          "output_type": "stream",
          "text": [
            "\r 38%|███▊      | 77/200 [24:53<40:43, 19.86s/it]"
          ]
        },
        {
          "name": "stdout",
          "output_type": "stream",
          "text": [
            "Epoch 77/200, Train Loss: 0.8294,           Validation Loss: 0.9122, Duration: 0:00:20.735520, Best Val Epoch: 74\n"
          ]
        },
        {
          "name": "stderr",
          "output_type": "stream",
          "text": [
            "\r 39%|███▉      | 78/200 [25:13<40:27, 19.90s/it]"
          ]
        },
        {
          "name": "stdout",
          "output_type": "stream",
          "text": [
            "Epoch 78/200, Train Loss: 0.8291,           Validation Loss: 0.9122, Duration: 0:00:19.981974, Best Val Epoch: 74\n"
          ]
        },
        {
          "name": "stderr",
          "output_type": "stream",
          "text": [
            "\r 40%|███▉      | 79/200 [25:34<40:44, 20.21s/it]"
          ]
        },
        {
          "name": "stdout",
          "output_type": "stream",
          "text": [
            "Epoch 79/200, Train Loss: 0.8288,           Validation Loss: 0.9121, Duration: 0:00:20.922542, Best Val Epoch: 74\n"
          ]
        },
        {
          "name": "stderr",
          "output_type": "stream",
          "text": [
            "\r 40%|████      | 80/200 [25:53<39:53, 19.94s/it]"
          ]
        },
        {
          "name": "stdout",
          "output_type": "stream",
          "text": [
            "Epoch 80/200, Train Loss: 0.8299,           Validation Loss: 0.9122, Duration: 0:00:19.323372, Best Val Epoch: 74\n"
          ]
        },
        {
          "name": "stderr",
          "output_type": "stream",
          "text": [
            "\r 40%|████      | 81/200 [26:12<38:47, 19.55s/it]"
          ]
        },
        {
          "name": "stdout",
          "output_type": "stream",
          "text": [
            "model saved\n",
            "Epoch 81/200, Train Loss: 0.8298,           Validation Loss: 0.9120, Duration: 0:00:18.648414, Best Val Epoch: 80\n"
          ]
        },
        {
          "name": "stderr",
          "output_type": "stream",
          "text": [
            "\r 41%|████      | 82/200 [26:31<38:21, 19.51s/it]"
          ]
        },
        {
          "name": "stdout",
          "output_type": "stream",
          "text": [
            "model saved\n",
            "Epoch 82/200, Train Loss: 0.8289,           Validation Loss: 0.9120, Duration: 0:00:19.390836, Best Val Epoch: 81\n"
          ]
        },
        {
          "name": "stderr",
          "output_type": "stream",
          "text": [
            "\r 42%|████▏     | 83/200 [26:50<37:45, 19.37s/it]"
          ]
        },
        {
          "name": "stdout",
          "output_type": "stream",
          "text": [
            "Epoch 83/200, Train Loss: 0.8289,           Validation Loss: 0.9120, Duration: 0:00:19.032908, Best Val Epoch: 81\n"
          ]
        },
        {
          "name": "stderr",
          "output_type": "stream",
          "text": [
            "\r 42%|████▏     | 84/200 [27:10<37:25, 19.36s/it]"
          ]
        },
        {
          "name": "stdout",
          "output_type": "stream",
          "text": [
            "Epoch 84/200, Train Loss: 0.8288,           Validation Loss: 0.9120, Duration: 0:00:19.342859, Best Val Epoch: 81\n"
          ]
        },
        {
          "name": "stderr",
          "output_type": "stream",
          "text": [
            "\r 42%|████▎     | 85/200 [27:28<36:52, 19.24s/it]"
          ]
        },
        {
          "name": "stdout",
          "output_type": "stream",
          "text": [
            "Epoch 85/200, Train Loss: 0.8292,           Validation Loss: 0.9121, Duration: 0:00:18.949978, Best Val Epoch: 81\n"
          ]
        },
        {
          "name": "stderr",
          "output_type": "stream",
          "text": [
            "\r 43%|████▎     | 86/200 [27:47<36:16, 19.09s/it]"
          ]
        },
        {
          "name": "stdout",
          "output_type": "stream",
          "text": [
            "Epoch 86/200, Train Loss: 0.8289,           Validation Loss: 0.9121, Duration: 0:00:18.741604, Best Val Epoch: 81\n"
          ]
        },
        {
          "name": "stderr",
          "output_type": "stream",
          "text": [
            "\r 44%|████▎     | 87/200 [28:06<35:35, 18.90s/it]"
          ]
        },
        {
          "name": "stdout",
          "output_type": "stream",
          "text": [
            "Epoch 87/200, Train Loss: 0.8295,           Validation Loss: 0.9120, Duration: 0:00:18.445435, Best Val Epoch: 81\n"
          ]
        },
        {
          "name": "stderr",
          "output_type": "stream",
          "text": [
            "\r 44%|████▍     | 88/200 [28:24<35:01, 18.77s/it]"
          ]
        },
        {
          "name": "stdout",
          "output_type": "stream",
          "text": [
            "Epoch 88/200, Train Loss: 0.8292,           Validation Loss: 0.9120, Duration: 0:00:18.456171, Best Val Epoch: 81\n"
          ]
        },
        {
          "name": "stderr",
          "output_type": "stream",
          "text": [
            "\r 44%|████▍     | 89/200 [28:43<34:41, 18.75s/it]"
          ]
        },
        {
          "name": "stdout",
          "output_type": "stream",
          "text": [
            "Epoch 89/200, Train Loss: 0.8295,           Validation Loss: 0.9120, Duration: 0:00:18.706477, Best Val Epoch: 81\n"
          ]
        },
        {
          "name": "stderr",
          "output_type": "stream",
          "text": [
            "\r 45%|████▌     | 90/200 [29:02<34:20, 18.73s/it]"
          ]
        },
        {
          "name": "stdout",
          "output_type": "stream",
          "text": [
            "model saved\n",
            "Epoch 90/200, Train Loss: 0.8287,           Validation Loss: 0.9119, Duration: 0:00:18.676848, Best Val Epoch: 89\n"
          ]
        },
        {
          "name": "stderr",
          "output_type": "stream",
          "text": [
            "\r 46%|████▌     | 91/200 [29:22<35:00, 19.27s/it]"
          ]
        },
        {
          "name": "stdout",
          "output_type": "stream",
          "text": [
            "Epoch 91/200, Train Loss: 0.8285,           Validation Loss: 0.9119, Duration: 0:00:20.541448, Best Val Epoch: 89\n"
          ]
        },
        {
          "name": "stderr",
          "output_type": "stream",
          "text": [
            "\r 46%|████▌     | 92/200 [29:41<34:43, 19.30s/it]"
          ]
        },
        {
          "name": "stdout",
          "output_type": "stream",
          "text": [
            "Epoch 92/200, Train Loss: 0.8289,           Validation Loss: 0.9120, Duration: 0:00:19.343998, Best Val Epoch: 89\n"
          ]
        },
        {
          "name": "stderr",
          "output_type": "stream",
          "text": [
            "\r 46%|████▋     | 93/200 [30:00<34:08, 19.14s/it]"
          ]
        },
        {
          "name": "stdout",
          "output_type": "stream",
          "text": [
            "Epoch 93/200, Train Loss: 0.8290,           Validation Loss: 0.9119, Duration: 0:00:18.785558, Best Val Epoch: 89\n"
          ]
        },
        {
          "name": "stderr",
          "output_type": "stream",
          "text": [
            "\r 47%|████▋     | 94/200 [30:19<33:52, 19.17s/it]"
          ]
        },
        {
          "name": "stdout",
          "output_type": "stream",
          "text": [
            "Epoch 94/200, Train Loss: 0.8286,           Validation Loss: 0.9119, Duration: 0:00:19.246288, Best Val Epoch: 89\n"
          ]
        },
        {
          "name": "stderr",
          "output_type": "stream",
          "text": [
            "\r 48%|████▊     | 95/200 [30:39<34:00, 19.43s/it]"
          ]
        },
        {
          "name": "stdout",
          "output_type": "stream",
          "text": [
            "model saved\n",
            "Epoch 95/200, Train Loss: 0.8291,           Validation Loss: 0.9119, Duration: 0:00:20.039959, Best Val Epoch: 94\n"
          ]
        },
        {
          "name": "stderr",
          "output_type": "stream",
          "text": [
            "\r 48%|████▊     | 96/200 [31:00<34:22, 19.83s/it]"
          ]
        },
        {
          "name": "stdout",
          "output_type": "stream",
          "text": [
            "model saved\n",
            "Epoch 96/200, Train Loss: 0.8284,           Validation Loss: 0.9118, Duration: 0:00:20.755964, Best Val Epoch: 95\n"
          ]
        },
        {
          "name": "stderr",
          "output_type": "stream",
          "text": [
            "\r 48%|████▊     | 97/200 [31:19<33:43, 19.64s/it]"
          ]
        },
        {
          "name": "stdout",
          "output_type": "stream",
          "text": [
            "Epoch 97/200, Train Loss: 0.8288,           Validation Loss: 0.9118, Duration: 0:00:19.198570, Best Val Epoch: 95\n"
          ]
        },
        {
          "name": "stderr",
          "output_type": "stream",
          "text": [
            "\r 49%|████▉     | 98/200 [31:38<32:51, 19.33s/it]"
          ]
        },
        {
          "name": "stdout",
          "output_type": "stream",
          "text": [
            "Epoch 98/200, Train Loss: 0.8291,           Validation Loss: 0.9118, Duration: 0:00:18.585215, Best Val Epoch: 95\n"
          ]
        },
        {
          "name": "stderr",
          "output_type": "stream",
          "text": [
            "\r 50%|████▉     | 99/200 [31:57<32:13, 19.15s/it]"
          ]
        },
        {
          "name": "stdout",
          "output_type": "stream",
          "text": [
            "Epoch 99/200, Train Loss: 0.8287,           Validation Loss: 0.9119, Duration: 0:00:18.723275, Best Val Epoch: 95\n"
          ]
        },
        {
          "name": "stderr",
          "output_type": "stream",
          "text": [
            "\r 50%|█████     | 100/200 [32:15<31:41, 19.01s/it]"
          ]
        },
        {
          "name": "stdout",
          "output_type": "stream",
          "text": [
            "Epoch 100/200, Train Loss: 0.8289,           Validation Loss: 0.9119, Duration: 0:00:18.706932, Best Val Epoch: 95\n"
          ]
        },
        {
          "name": "stderr",
          "output_type": "stream",
          "text": [
            "\r 50%|█████     | 101/200 [32:34<31:11, 18.90s/it]"
          ]
        },
        {
          "name": "stdout",
          "output_type": "stream",
          "text": [
            "Epoch 101/200, Train Loss: 0.8290,           Validation Loss: 0.9119, Duration: 0:00:18.628168, Best Val Epoch: 95\n"
          ]
        },
        {
          "name": "stderr",
          "output_type": "stream",
          "text": [
            "\r 51%|█████     | 102/200 [32:53<30:53, 18.91s/it]"
          ]
        },
        {
          "name": "stdout",
          "output_type": "stream",
          "text": [
            "model saved\n",
            "Epoch 102/200, Train Loss: 0.8296,           Validation Loss: 0.9118, Duration: 0:00:18.942819, Best Val Epoch: 101\n"
          ]
        },
        {
          "name": "stderr",
          "output_type": "stream",
          "text": [
            "\r 52%|█████▏    | 103/200 [33:12<30:47, 19.04s/it]"
          ]
        },
        {
          "name": "stdout",
          "output_type": "stream",
          "text": [
            "Epoch 103/200, Train Loss: 0.8286,           Validation Loss: 0.9119, Duration: 0:00:19.344490, Best Val Epoch: 101\n"
          ]
        },
        {
          "name": "stderr",
          "output_type": "stream",
          "text": [
            "\r 52%|█████▏    | 104/200 [33:31<30:13, 18.89s/it]"
          ]
        },
        {
          "name": "stdout",
          "output_type": "stream",
          "text": [
            "model saved\n",
            "Epoch 104/200, Train Loss: 0.8292,           Validation Loss: 0.9118, Duration: 0:00:18.543650, Best Val Epoch: 103\n"
          ]
        },
        {
          "name": "stderr",
          "output_type": "stream",
          "text": [
            "\r 52%|█████▎    | 105/200 [33:50<30:04, 18.99s/it]"
          ]
        },
        {
          "name": "stdout",
          "output_type": "stream",
          "text": [
            "Epoch 105/200, Train Loss: 0.8286,           Validation Loss: 0.9118, Duration: 0:00:19.216363, Best Val Epoch: 103\n"
          ]
        },
        {
          "name": "stderr",
          "output_type": "stream",
          "text": [
            "\r 53%|█████▎    | 106/200 [34:09<29:31, 18.84s/it]"
          ]
        },
        {
          "name": "stdout",
          "output_type": "stream",
          "text": [
            "Epoch 106/200, Train Loss: 0.8289,           Validation Loss: 0.9119, Duration: 0:00:18.495995, Best Val Epoch: 103\n"
          ]
        },
        {
          "name": "stderr",
          "output_type": "stream",
          "text": [
            "\r 54%|█████▎    | 107/200 [34:28<29:22, 18.95s/it]"
          ]
        },
        {
          "name": "stdout",
          "output_type": "stream",
          "text": [
            "Epoch 107/200, Train Loss: 0.8291,           Validation Loss: 0.9118, Duration: 0:00:19.185431, Best Val Epoch: 103\n"
          ]
        },
        {
          "name": "stderr",
          "output_type": "stream",
          "text": [
            "\r 54%|█████▍    | 108/200 [34:46<28:51, 18.82s/it]"
          ]
        },
        {
          "name": "stdout",
          "output_type": "stream",
          "text": [
            "Epoch 108/200, Train Loss: 0.8287,           Validation Loss: 0.9118, Duration: 0:00:18.535906, Best Val Epoch: 103\n"
          ]
        },
        {
          "name": "stderr",
          "output_type": "stream",
          "text": [
            "\r 55%|█████▍    | 109/200 [35:06<28:56, 19.08s/it]"
          ]
        },
        {
          "name": "stdout",
          "output_type": "stream",
          "text": [
            "model saved\n",
            "Epoch 109/200, Train Loss: 0.8291,           Validation Loss: 0.9117, Duration: 0:00:19.690804, Best Val Epoch: 108\n"
          ]
        },
        {
          "name": "stderr",
          "output_type": "stream",
          "text": [
            "\r 55%|█████▌    | 110/200 [35:25<28:43, 19.15s/it]"
          ]
        },
        {
          "name": "stdout",
          "output_type": "stream",
          "text": [
            "Epoch 110/200, Train Loss: 0.8287,           Validation Loss: 0.9118, Duration: 0:00:19.313336, Best Val Epoch: 108\n"
          ]
        },
        {
          "name": "stderr",
          "output_type": "stream",
          "text": [
            "\r 56%|█████▌    | 111/200 [35:45<28:24, 19.15s/it]"
          ]
        },
        {
          "name": "stdout",
          "output_type": "stream",
          "text": [
            "Epoch 111/200, Train Loss: 0.8289,           Validation Loss: 0.9118, Duration: 0:00:19.135350, Best Val Epoch: 108\n"
          ]
        },
        {
          "name": "stderr",
          "output_type": "stream",
          "text": [
            "\r 56%|█████▌    | 112/200 [36:04<28:12, 19.24s/it]"
          ]
        },
        {
          "name": "stdout",
          "output_type": "stream",
          "text": [
            "Epoch 112/200, Train Loss: 0.8290,           Validation Loss: 0.9118, Duration: 0:00:19.435055, Best Val Epoch: 108\n"
          ]
        },
        {
          "name": "stderr",
          "output_type": "stream",
          "text": [
            "\r 56%|█████▋    | 113/200 [36:24<28:11, 19.44s/it]"
          ]
        },
        {
          "name": "stdout",
          "output_type": "stream",
          "text": [
            "Epoch 113/200, Train Loss: 0.8287,           Validation Loss: 0.9118, Duration: 0:00:19.905510, Best Val Epoch: 108\n"
          ]
        },
        {
          "name": "stderr",
          "output_type": "stream",
          "text": [
            "\r 57%|█████▋    | 114/200 [36:43<27:50, 19.42s/it]"
          ]
        },
        {
          "name": "stdout",
          "output_type": "stream",
          "text": [
            "Epoch 114/200, Train Loss: 0.8287,           Validation Loss: 0.9117, Duration: 0:00:19.379203, Best Val Epoch: 108\n"
          ]
        },
        {
          "name": "stderr",
          "output_type": "stream",
          "text": [
            "\r 57%|█████▊    | 115/200 [37:03<27:42, 19.55s/it]"
          ]
        },
        {
          "name": "stdout",
          "output_type": "stream",
          "text": [
            "model saved\n",
            "Epoch 115/200, Train Loss: 0.8282,           Validation Loss: 0.9117, Duration: 0:00:19.863593, Best Val Epoch: 114\n"
          ]
        },
        {
          "name": "stderr",
          "output_type": "stream",
          "text": [
            "\r 58%|█████▊    | 116/200 [37:22<27:09, 19.39s/it]"
          ]
        },
        {
          "name": "stdout",
          "output_type": "stream",
          "text": [
            "model saved\n",
            "Epoch 116/200, Train Loss: 0.8284,           Validation Loss: 0.9117, Duration: 0:00:19.012619, Best Val Epoch: 115\n"
          ]
        },
        {
          "name": "stderr",
          "output_type": "stream",
          "text": [
            "\r 58%|█████▊    | 117/200 [37:41<26:43, 19.32s/it]"
          ]
        },
        {
          "name": "stdout",
          "output_type": "stream",
          "text": [
            "model saved\n",
            "Epoch 117/200, Train Loss: 0.8284,           Validation Loss: 0.9117, Duration: 0:00:19.161078, Best Val Epoch: 116\n"
          ]
        },
        {
          "name": "stderr",
          "output_type": "stream",
          "text": [
            "\r 59%|█████▉    | 118/200 [38:00<26:10, 19.15s/it]"
          ]
        },
        {
          "name": "stdout",
          "output_type": "stream",
          "text": [
            "model saved\n",
            "Epoch 118/200, Train Loss: 0.8284,           Validation Loss: 0.9116, Duration: 0:00:18.743633, Best Val Epoch: 117\n"
          ]
        },
        {
          "name": "stderr",
          "output_type": "stream",
          "text": [
            "\r 60%|█████▉    | 119/200 [38:19<25:43, 19.05s/it]"
          ]
        },
        {
          "name": "stdout",
          "output_type": "stream",
          "text": [
            "Epoch 119/200, Train Loss: 0.8287,           Validation Loss: 0.9117, Duration: 0:00:18.818607, Best Val Epoch: 117\n"
          ]
        },
        {
          "name": "stderr",
          "output_type": "stream",
          "text": [
            "\r 60%|██████    | 120/200 [38:38<25:17, 18.97s/it]"
          ]
        },
        {
          "name": "stdout",
          "output_type": "stream",
          "text": [
            "Epoch 120/200, Train Loss: 0.8290,           Validation Loss: 0.9117, Duration: 0:00:18.776654, Best Val Epoch: 117\n"
          ]
        },
        {
          "name": "stderr",
          "output_type": "stream",
          "text": [
            "\r 60%|██████    | 121/200 [38:57<24:58, 18.97s/it]"
          ]
        },
        {
          "name": "stdout",
          "output_type": "stream",
          "text": [
            "Epoch 121/200, Train Loss: 0.8290,           Validation Loss: 0.9117, Duration: 0:00:18.965973, Best Val Epoch: 117\n"
          ]
        },
        {
          "name": "stderr",
          "output_type": "stream",
          "text": [
            "\r 61%|██████    | 122/200 [39:16<24:45, 19.04s/it]"
          ]
        },
        {
          "name": "stdout",
          "output_type": "stream",
          "text": [
            "model saved\n",
            "Epoch 122/200, Train Loss: 0.8290,           Validation Loss: 0.9116, Duration: 0:00:19.214191, Best Val Epoch: 121\n"
          ]
        },
        {
          "name": "stderr",
          "output_type": "stream",
          "text": [
            "\r 62%|██████▏   | 123/200 [39:34<24:16, 18.91s/it]"
          ]
        },
        {
          "name": "stdout",
          "output_type": "stream",
          "text": [
            "Epoch 123/200, Train Loss: 0.8288,           Validation Loss: 0.9117, Duration: 0:00:18.608605, Best Val Epoch: 121\n"
          ]
        },
        {
          "name": "stderr",
          "output_type": "stream",
          "text": [
            "\r 62%|██████▏   | 124/200 [39:53<23:50, 18.83s/it]"
          ]
        },
        {
          "name": "stdout",
          "output_type": "stream",
          "text": [
            "Epoch 124/200, Train Loss: 0.8286,           Validation Loss: 0.9117, Duration: 0:00:18.616058, Best Val Epoch: 121\n"
          ]
        },
        {
          "name": "stderr",
          "output_type": "stream",
          "text": [
            "\r 62%|██████▎   | 125/200 [40:12<23:34, 18.86s/it]"
          ]
        },
        {
          "name": "stdout",
          "output_type": "stream",
          "text": [
            "model saved\n",
            "Epoch 125/200, Train Loss: 0.8280,           Validation Loss: 0.9116, Duration: 0:00:18.944909, Best Val Epoch: 124\n"
          ]
        },
        {
          "name": "stderr",
          "output_type": "stream",
          "text": [
            "\r 63%|██████▎   | 126/200 [40:31<23:09, 18.78s/it]"
          ]
        },
        {
          "name": "stdout",
          "output_type": "stream",
          "text": [
            "Epoch 126/200, Train Loss: 0.8288,           Validation Loss: 0.9116, Duration: 0:00:18.569551, Best Val Epoch: 124\n"
          ]
        },
        {
          "name": "stderr",
          "output_type": "stream",
          "text": [
            "\r 64%|██████▎   | 127/200 [40:51<23:32, 19.35s/it]"
          ]
        },
        {
          "name": "stdout",
          "output_type": "stream",
          "text": [
            "Epoch 127/200, Train Loss: 0.8294,           Validation Loss: 0.9116, Duration: 0:00:20.687797, Best Val Epoch: 124\n"
          ]
        },
        {
          "name": "stderr",
          "output_type": "stream",
          "text": [
            "\r 64%|██████▍   | 128/200 [41:11<23:21, 19.46s/it]"
          ]
        },
        {
          "name": "stdout",
          "output_type": "stream",
          "text": [
            "Epoch 128/200, Train Loss: 0.8285,           Validation Loss: 0.9117, Duration: 0:00:19.714411, Best Val Epoch: 124\n"
          ]
        },
        {
          "name": "stderr",
          "output_type": "stream",
          "text": [
            "\r 64%|██████▍   | 129/200 [41:32<23:35, 19.94s/it]"
          ]
        },
        {
          "name": "stdout",
          "output_type": "stream",
          "text": [
            "Epoch 129/200, Train Loss: 0.8284,           Validation Loss: 0.9116, Duration: 0:00:21.041309, Best Val Epoch: 124\n"
          ]
        },
        {
          "name": "stderr",
          "output_type": "stream",
          "text": [
            "\r 65%|██████▌   | 130/200 [42:01<26:20, 22.57s/it]"
          ]
        },
        {
          "name": "stdout",
          "output_type": "stream",
          "text": [
            "Epoch 130/200, Train Loss: 0.8281,           Validation Loss: 0.9116, Duration: 0:00:28.726558, Best Val Epoch: 124\n"
          ]
        },
        {
          "name": "stderr",
          "output_type": "stream",
          "text": [
            "\r 66%|██████▌   | 131/200 [42:25<26:41, 23.21s/it]"
          ]
        },
        {
          "name": "stdout",
          "output_type": "stream",
          "text": [
            "Epoch 131/200, Train Loss: 0.8287,           Validation Loss: 0.9116, Duration: 0:00:24.682529, Best Val Epoch: 124\n"
          ]
        },
        {
          "name": "stderr",
          "output_type": "stream",
          "text": [
            "\r 66%|██████▌   | 132/200 [42:45<25:02, 22.09s/it]"
          ]
        },
        {
          "name": "stdout",
          "output_type": "stream",
          "text": [
            "Epoch 132/200, Train Loss: 0.8287,           Validation Loss: 0.9116, Duration: 0:00:19.475776, Best Val Epoch: 124\n"
          ]
        },
        {
          "name": "stderr",
          "output_type": "stream",
          "text": [
            "\r 66%|██████▋   | 133/200 [43:04<23:38, 21.17s/it]"
          ]
        },
        {
          "name": "stdout",
          "output_type": "stream",
          "text": [
            "Epoch 133/200, Train Loss: 0.8280,           Validation Loss: 0.9116, Duration: 0:00:19.029011, Best Val Epoch: 124\n"
          ]
        },
        {
          "name": "stderr",
          "output_type": "stream",
          "text": [
            "\r 67%|██████▋   | 134/200 [43:23<22:39, 20.60s/it]"
          ]
        },
        {
          "name": "stdout",
          "output_type": "stream",
          "text": [
            "model saved\n",
            "Epoch 134/200, Train Loss: 0.8288,           Validation Loss: 0.9115, Duration: 0:00:19.263904, Best Val Epoch: 133\n"
          ]
        },
        {
          "name": "stderr",
          "output_type": "stream",
          "text": [
            "\r 68%|██████▊   | 135/200 [43:43<21:55, 20.23s/it]"
          ]
        },
        {
          "name": "stdout",
          "output_type": "stream",
          "text": [
            "model saved\n",
            "Epoch 135/200, Train Loss: 0.8284,           Validation Loss: 0.9114, Duration: 0:00:19.381767, Best Val Epoch: 134\n"
          ]
        },
        {
          "name": "stderr",
          "output_type": "stream",
          "text": [
            "\r 68%|██████▊   | 136/200 [44:02<21:15, 19.92s/it]"
          ]
        },
        {
          "name": "stdout",
          "output_type": "stream",
          "text": [
            "Epoch 136/200, Train Loss: 0.8282,           Validation Loss: 0.9114, Duration: 0:00:19.189378, Best Val Epoch: 134\n"
          ]
        },
        {
          "name": "stderr",
          "output_type": "stream",
          "text": [
            "\r 68%|██████▊   | 137/200 [44:21<20:45, 19.76s/it]"
          ]
        },
        {
          "name": "stdout",
          "output_type": "stream",
          "text": [
            "Epoch 137/200, Train Loss: 0.8285,           Validation Loss: 0.9115, Duration: 0:00:19.389674, Best Val Epoch: 134\n"
          ]
        },
        {
          "name": "stderr",
          "output_type": "stream",
          "text": [
            "\r 69%|██████▉   | 138/200 [44:40<20:12, 19.56s/it]"
          ]
        },
        {
          "name": "stdout",
          "output_type": "stream",
          "text": [
            "Epoch 138/200, Train Loss: 0.8280,           Validation Loss: 0.9114, Duration: 0:00:19.070667, Best Val Epoch: 134\n"
          ]
        },
        {
          "name": "stderr",
          "output_type": "stream",
          "text": [
            "\r 70%|██████▉   | 139/200 [45:00<19:55, 19.60s/it]"
          ]
        },
        {
          "name": "stdout",
          "output_type": "stream",
          "text": [
            "Epoch 139/200, Train Loss: 0.8278,           Validation Loss: 0.9115, Duration: 0:00:19.687605, Best Val Epoch: 134\n"
          ]
        },
        {
          "name": "stderr",
          "output_type": "stream",
          "text": [
            "\r 70%|███████   | 140/200 [45:19<19:24, 19.40s/it]"
          ]
        },
        {
          "name": "stdout",
          "output_type": "stream",
          "text": [
            "Epoch 140/200, Train Loss: 0.8284,           Validation Loss: 0.9115, Duration: 0:00:18.952168, Best Val Epoch: 134\n"
          ]
        },
        {
          "name": "stderr",
          "output_type": "stream",
          "text": [
            "\r 70%|███████   | 141/200 [45:38<19:04, 19.39s/it]"
          ]
        },
        {
          "name": "stdout",
          "output_type": "stream",
          "text": [
            "Epoch 141/200, Train Loss: 0.8286,           Validation Loss: 0.9116, Duration: 0:00:19.359215, Best Val Epoch: 134\n"
          ]
        },
        {
          "name": "stderr",
          "output_type": "stream",
          "text": [
            "\r 71%|███████   | 142/200 [45:58<18:59, 19.64s/it]"
          ]
        },
        {
          "name": "stdout",
          "output_type": "stream",
          "text": [
            "Epoch 142/200, Train Loss: 0.8289,           Validation Loss: 0.9116, Duration: 0:00:20.231361, Best Val Epoch: 134\n"
          ]
        },
        {
          "name": "stderr",
          "output_type": "stream",
          "text": [
            "\r 72%|███████▏  | 143/200 [46:18<18:39, 19.63s/it]"
          ]
        },
        {
          "name": "stdout",
          "output_type": "stream",
          "text": [
            "Epoch 143/200, Train Loss: 0.8283,           Validation Loss: 0.9115, Duration: 0:00:19.606196, Best Val Epoch: 134\n"
          ]
        },
        {
          "name": "stderr",
          "output_type": "stream",
          "text": [
            "\r 72%|███████▏  | 144/200 [46:37<18:10, 19.48s/it]"
          ]
        },
        {
          "name": "stdout",
          "output_type": "stream",
          "text": [
            "Epoch 144/200, Train Loss: 0.8283,           Validation Loss: 0.9115, Duration: 0:00:19.103896, Best Val Epoch: 134\n"
          ]
        },
        {
          "name": "stderr",
          "output_type": "stream",
          "text": [
            "\r 72%|███████▎  | 145/200 [46:58<18:10, 19.83s/it]"
          ]
        },
        {
          "name": "stdout",
          "output_type": "stream",
          "text": [
            "Epoch 145/200, Train Loss: 0.8284,           Validation Loss: 0.9115, Duration: 0:00:20.655986, Best Val Epoch: 134\n"
          ]
        },
        {
          "name": "stderr",
          "output_type": "stream",
          "text": [
            "\r 73%|███████▎  | 146/200 [47:17<17:46, 19.76s/it]"
          ]
        },
        {
          "name": "stdout",
          "output_type": "stream",
          "text": [
            "Epoch 146/200, Train Loss: 0.8286,           Validation Loss: 0.9115, Duration: 0:00:19.577521, Best Val Epoch: 134\n"
          ]
        },
        {
          "name": "stderr",
          "output_type": "stream",
          "text": [
            "\r 74%|███████▎  | 147/200 [47:37<17:19, 19.62s/it]"
          ]
        },
        {
          "name": "stdout",
          "output_type": "stream",
          "text": [
            "Epoch 147/200, Train Loss: 0.8276,           Validation Loss: 0.9116, Duration: 0:00:19.293338, Best Val Epoch: 134\n"
          ]
        },
        {
          "name": "stderr",
          "output_type": "stream",
          "text": [
            "\r 74%|███████▍  | 148/200 [47:56<16:58, 19.59s/it]"
          ]
        },
        {
          "name": "stdout",
          "output_type": "stream",
          "text": [
            "Epoch 148/200, Train Loss: 0.8284,           Validation Loss: 0.9115, Duration: 0:00:19.524427, Best Val Epoch: 134\n"
          ]
        },
        {
          "name": "stderr",
          "output_type": "stream",
          "text": [
            "\r 74%|███████▍  | 149/200 [48:16<16:33, 19.48s/it]"
          ]
        },
        {
          "name": "stdout",
          "output_type": "stream",
          "text": [
            "Epoch 149/200, Train Loss: 0.8285,           Validation Loss: 0.9115, Duration: 0:00:19.227746, Best Val Epoch: 134\n"
          ]
        },
        {
          "name": "stderr",
          "output_type": "stream",
          "text": [
            "\r 75%|███████▌  | 150/200 [48:36<16:27, 19.75s/it]"
          ]
        },
        {
          "name": "stdout",
          "output_type": "stream",
          "text": [
            "Epoch 150/200, Train Loss: 0.8285,           Validation Loss: 0.9114, Duration: 0:00:20.359551, Best Val Epoch: 134\n"
          ]
        },
        {
          "name": "stderr",
          "output_type": "stream",
          "text": [
            "\r 76%|███████▌  | 151/200 [48:55<15:58, 19.55s/it]"
          ]
        },
        {
          "name": "stdout",
          "output_type": "stream",
          "text": [
            "Epoch 151/200, Train Loss: 0.8286,           Validation Loss: 0.9114, Duration: 0:00:19.104382, Best Val Epoch: 134\n"
          ]
        },
        {
          "name": "stderr",
          "output_type": "stream",
          "text": [
            "\r 76%|███████▌  | 152/200 [49:14<15:33, 19.45s/it]"
          ]
        },
        {
          "name": "stdout",
          "output_type": "stream",
          "text": [
            "Epoch 152/200, Train Loss: 0.8286,           Validation Loss: 0.9115, Duration: 0:00:19.197060, Best Val Epoch: 134\n"
          ]
        },
        {
          "name": "stderr",
          "output_type": "stream",
          "text": [
            "\r 76%|███████▋  | 153/200 [49:34<15:13, 19.43s/it]"
          ]
        },
        {
          "name": "stdout",
          "output_type": "stream",
          "text": [
            "Epoch 153/200, Train Loss: 0.8289,           Validation Loss: 0.9115, Duration: 0:00:19.399235, Best Val Epoch: 134\n"
          ]
        },
        {
          "name": "stderr",
          "output_type": "stream",
          "text": [
            "\r 77%|███████▋  | 154/200 [49:52<14:44, 19.24s/it]"
          ]
        },
        {
          "name": "stdout",
          "output_type": "stream",
          "text": [
            "Epoch 154/200, Train Loss: 0.8277,           Validation Loss: 0.9115, Duration: 0:00:18.772784, Best Val Epoch: 134\n"
          ]
        },
        {
          "name": "stderr",
          "output_type": "stream",
          "text": [
            "\r 78%|███████▊  | 155/200 [50:12<14:25, 19.23s/it]"
          ]
        },
        {
          "name": "stdout",
          "output_type": "stream",
          "text": [
            "Epoch 155/200, Train Loss: 0.8281,           Validation Loss: 0.9115, Duration: 0:00:19.213827, Best Val Epoch: 134\n"
          ]
        },
        {
          "name": "stderr",
          "output_type": "stream",
          "text": [
            "\r 78%|███████▊  | 156/200 [50:31<14:04, 19.18s/it]"
          ]
        },
        {
          "name": "stdout",
          "output_type": "stream",
          "text": [
            "Epoch 156/200, Train Loss: 0.8276,           Validation Loss: 0.9115, Duration: 0:00:19.068166, Best Val Epoch: 134\n"
          ]
        },
        {
          "name": "stderr",
          "output_type": "stream",
          "text": [
            "\r 78%|███████▊  | 157/200 [50:50<13:43, 19.15s/it]"
          ]
        },
        {
          "name": "stdout",
          "output_type": "stream",
          "text": [
            "Epoch 157/200, Train Loss: 0.8287,           Validation Loss: 0.9114, Duration: 0:00:19.059027, Best Val Epoch: 134\n"
          ]
        },
        {
          "name": "stderr",
          "output_type": "stream",
          "text": [
            "\r 79%|███████▉  | 158/200 [51:09<13:29, 19.26s/it]"
          ]
        },
        {
          "name": "stdout",
          "output_type": "stream",
          "text": [
            "model saved\n",
            "Epoch 158/200, Train Loss: 0.8289,           Validation Loss: 0.9113, Duration: 0:00:19.539670, Best Val Epoch: 157\n"
          ]
        },
        {
          "name": "stderr",
          "output_type": "stream",
          "text": [
            "\r 80%|███████▉  | 159/200 [51:29<13:14, 19.37s/it]"
          ]
        },
        {
          "name": "stdout",
          "output_type": "stream",
          "text": [
            "Epoch 159/200, Train Loss: 0.8281,           Validation Loss: 0.9114, Duration: 0:00:19.624267, Best Val Epoch: 157\n"
          ]
        },
        {
          "name": "stderr",
          "output_type": "stream",
          "text": [
            "\r 80%|████████  | 160/200 [51:49<12:58, 19.46s/it]"
          ]
        },
        {
          "name": "stdout",
          "output_type": "stream",
          "text": [
            "model saved\n",
            "Epoch 160/200, Train Loss: 0.8283,           Validation Loss: 0.9113, Duration: 0:00:19.644108, Best Val Epoch: 159\n"
          ]
        },
        {
          "name": "stderr",
          "output_type": "stream",
          "text": [
            "\r 80%|████████  | 161/200 [52:08<12:39, 19.47s/it]"
          ]
        },
        {
          "name": "stdout",
          "output_type": "stream",
          "text": [
            "Epoch 161/200, Train Loss: 0.8283,           Validation Loss: 0.9114, Duration: 0:00:19.510356, Best Val Epoch: 159\n"
          ]
        },
        {
          "name": "stderr",
          "output_type": "stream",
          "text": [
            "\r 81%|████████  | 162/200 [52:29<12:35, 19.89s/it]"
          ]
        },
        {
          "name": "stdout",
          "output_type": "stream",
          "text": [
            "Epoch 162/200, Train Loss: 0.8284,           Validation Loss: 0.9114, Duration: 0:00:20.848512, Best Val Epoch: 159\n"
          ]
        },
        {
          "name": "stderr",
          "output_type": "stream",
          "text": [
            "\r 82%|████████▏ | 163/200 [52:49<12:13, 19.82s/it]"
          ]
        },
        {
          "name": "stdout",
          "output_type": "stream",
          "text": [
            "Epoch 163/200, Train Loss: 0.8287,           Validation Loss: 0.9114, Duration: 0:00:19.673384, Best Val Epoch: 159\n"
          ]
        },
        {
          "name": "stderr",
          "output_type": "stream",
          "text": [
            "\r 82%|████████▏ | 164/200 [53:07<11:43, 19.53s/it]"
          ]
        },
        {
          "name": "stdout",
          "output_type": "stream",
          "text": [
            "Epoch 164/200, Train Loss: 0.8285,           Validation Loss: 0.9113, Duration: 0:00:18.852422, Best Val Epoch: 159\n"
          ]
        },
        {
          "name": "stderr",
          "output_type": "stream",
          "text": [
            "\r 82%|████████▎ | 165/200 [53:27<11:21, 19.47s/it]"
          ]
        },
        {
          "name": "stdout",
          "output_type": "stream",
          "text": [
            "model saved\n",
            "Epoch 165/200, Train Loss: 0.8287,           Validation Loss: 0.9113, Duration: 0:00:19.337358, Best Val Epoch: 164\n"
          ]
        },
        {
          "name": "stderr",
          "output_type": "stream",
          "text": [
            "\r 83%|████████▎ | 166/200 [53:46<11:01, 19.45s/it]"
          ]
        },
        {
          "name": "stdout",
          "output_type": "stream",
          "text": [
            "model saved\n",
            "Epoch 166/200, Train Loss: 0.8280,           Validation Loss: 0.9113, Duration: 0:00:19.401835, Best Val Epoch: 165\n"
          ]
        },
        {
          "name": "stderr",
          "output_type": "stream",
          "text": [
            "\r 84%|████████▎ | 167/200 [54:05<10:39, 19.38s/it]"
          ]
        },
        {
          "name": "stdout",
          "output_type": "stream",
          "text": [
            "Epoch 167/200, Train Loss: 0.8286,           Validation Loss: 0.9113, Duration: 0:00:19.189391, Best Val Epoch: 165\n"
          ]
        },
        {
          "name": "stderr",
          "output_type": "stream",
          "text": [
            "\r 84%|████████▍ | 168/200 [54:24<10:17, 19.30s/it]"
          ]
        },
        {
          "name": "stdout",
          "output_type": "stream",
          "text": [
            "Epoch 168/200, Train Loss: 0.8285,           Validation Loss: 0.9113, Duration: 0:00:19.122317, Best Val Epoch: 165\n"
          ]
        },
        {
          "name": "stderr",
          "output_type": "stream",
          "text": [
            "\r 84%|████████▍ | 169/200 [54:44<09:56, 19.25s/it]"
          ]
        },
        {
          "name": "stdout",
          "output_type": "stream",
          "text": [
            "model saved\n",
            "Epoch 169/200, Train Loss: 0.8282,           Validation Loss: 0.9113, Duration: 0:00:19.131789, Best Val Epoch: 168\n"
          ]
        },
        {
          "name": "stderr",
          "output_type": "stream",
          "text": [
            "\r 85%|████████▌ | 170/200 [55:03<09:36, 19.21s/it]"
          ]
        },
        {
          "name": "stdout",
          "output_type": "stream",
          "text": [
            "model saved\n",
            "Epoch 170/200, Train Loss: 0.8285,           Validation Loss: 0.9112, Duration: 0:00:19.129955, Best Val Epoch: 169\n"
          ]
        },
        {
          "name": "stderr",
          "output_type": "stream",
          "text": [
            "\r 86%|████████▌ | 171/200 [55:22<09:15, 19.14s/it]"
          ]
        },
        {
          "name": "stdout",
          "output_type": "stream",
          "text": [
            "Epoch 171/200, Train Loss: 0.8283,           Validation Loss: 0.9113, Duration: 0:00:18.962961, Best Val Epoch: 169\n"
          ]
        },
        {
          "name": "stderr",
          "output_type": "stream",
          "text": [
            "\r 86%|████████▌ | 172/200 [55:41<08:55, 19.11s/it]"
          ]
        },
        {
          "name": "stdout",
          "output_type": "stream",
          "text": [
            "Epoch 172/200, Train Loss: 0.8278,           Validation Loss: 0.9114, Duration: 0:00:19.048330, Best Val Epoch: 169\n"
          ]
        },
        {
          "name": "stderr",
          "output_type": "stream",
          "text": [
            "\r 86%|████████▋ | 173/200 [56:00<08:37, 19.17s/it]"
          ]
        },
        {
          "name": "stdout",
          "output_type": "stream",
          "text": [
            "Epoch 173/200, Train Loss: 0.8287,           Validation Loss: 0.9113, Duration: 0:00:19.294185, Best Val Epoch: 169\n"
          ]
        },
        {
          "name": "stderr",
          "output_type": "stream",
          "text": [
            "\r 87%|████████▋ | 174/200 [56:20<08:21, 19.29s/it]"
          ]
        },
        {
          "name": "stdout",
          "output_type": "stream",
          "text": [
            "Epoch 174/200, Train Loss: 0.8287,           Validation Loss: 0.9112, Duration: 0:00:19.582383, Best Val Epoch: 169\n"
          ]
        },
        {
          "name": "stderr",
          "output_type": "stream",
          "text": [
            "\r 88%|████████▊ | 175/200 [56:39<08:00, 19.22s/it]"
          ]
        },
        {
          "name": "stdout",
          "output_type": "stream",
          "text": [
            "Epoch 175/200, Train Loss: 0.8284,           Validation Loss: 0.9113, Duration: 0:00:19.044067, Best Val Epoch: 169\n"
          ]
        },
        {
          "name": "stderr",
          "output_type": "stream",
          "text": [
            "\r 88%|████████▊ | 176/200 [56:58<07:39, 19.16s/it]"
          ]
        },
        {
          "name": "stdout",
          "output_type": "stream",
          "text": [
            "Epoch 176/200, Train Loss: 0.8281,           Validation Loss: 0.9113, Duration: 0:00:19.013596, Best Val Epoch: 169\n"
          ]
        },
        {
          "name": "stderr",
          "output_type": "stream",
          "text": [
            "\r 88%|████████▊ | 177/200 [57:17<07:23, 19.27s/it]"
          ]
        },
        {
          "name": "stdout",
          "output_type": "stream",
          "text": [
            "Epoch 177/200, Train Loss: 0.8284,           Validation Loss: 0.9113, Duration: 0:00:19.523581, Best Val Epoch: 169\n"
          ]
        },
        {
          "name": "stderr",
          "output_type": "stream",
          "text": [
            "\r 89%|████████▉ | 178/200 [57:37<07:06, 19.38s/it]"
          ]
        },
        {
          "name": "stdout",
          "output_type": "stream",
          "text": [
            "Epoch 178/200, Train Loss: 0.8282,           Validation Loss: 0.9113, Duration: 0:00:19.626018, Best Val Epoch: 169\n"
          ]
        },
        {
          "name": "stderr",
          "output_type": "stream",
          "text": [
            "\r 90%|████████▉ | 179/200 [57:57<06:53, 19.71s/it]"
          ]
        },
        {
          "name": "stdout",
          "output_type": "stream",
          "text": [
            "model saved\n",
            "Epoch 179/200, Train Loss: 0.8281,           Validation Loss: 0.9111, Duration: 0:00:20.474292, Best Val Epoch: 178\n"
          ]
        },
        {
          "name": "stderr",
          "output_type": "stream",
          "text": [
            "\r 90%|█████████ | 180/200 [58:17<06:33, 19.66s/it]"
          ]
        },
        {
          "name": "stdout",
          "output_type": "stream",
          "text": [
            "model saved\n",
            "Epoch 180/200, Train Loss: 0.8286,           Validation Loss: 0.9111, Duration: 0:00:19.552750, Best Val Epoch: 179\n"
          ]
        },
        {
          "name": "stderr",
          "output_type": "stream",
          "text": [
            "\r 90%|█████████ | 181/200 [58:36<06:13, 19.64s/it]"
          ]
        },
        {
          "name": "stdout",
          "output_type": "stream",
          "text": [
            "model saved\n",
            "Epoch 181/200, Train Loss: 0.8282,           Validation Loss: 0.9111, Duration: 0:00:19.599980, Best Val Epoch: 180\n"
          ]
        },
        {
          "name": "stderr",
          "output_type": "stream",
          "text": [
            "\r 91%|█████████ | 182/200 [58:57<05:57, 19.84s/it]"
          ]
        },
        {
          "name": "stdout",
          "output_type": "stream",
          "text": [
            "Epoch 182/200, Train Loss: 0.8287,           Validation Loss: 0.9112, Duration: 0:00:20.281519, Best Val Epoch: 180\n"
          ]
        },
        {
          "name": "stderr",
          "output_type": "stream",
          "text": [
            "\r 92%|█████████▏| 183/200 [59:17<05:37, 19.86s/it]"
          ]
        },
        {
          "name": "stdout",
          "output_type": "stream",
          "text": [
            "Epoch 183/200, Train Loss: 0.8281,           Validation Loss: 0.9112, Duration: 0:00:19.899446, Best Val Epoch: 180\n"
          ]
        },
        {
          "name": "stderr",
          "output_type": "stream",
          "text": [
            "\r 92%|█████████▏| 184/200 [59:36<05:17, 19.85s/it]"
          ]
        },
        {
          "name": "stdout",
          "output_type": "stream",
          "text": [
            "Epoch 184/200, Train Loss: 0.8277,           Validation Loss: 0.9112, Duration: 0:00:19.815412, Best Val Epoch: 180\n"
          ]
        },
        {
          "name": "stderr",
          "output_type": "stream",
          "text": [
            "\r 92%|█████████▎| 185/200 [59:55<04:53, 19.57s/it]"
          ]
        },
        {
          "name": "stdout",
          "output_type": "stream",
          "text": [
            "Epoch 185/200, Train Loss: 0.8283,           Validation Loss: 0.9111, Duration: 0:00:18.921868, Best Val Epoch: 180\n"
          ]
        },
        {
          "name": "stderr",
          "output_type": "stream",
          "text": [
            "\r 93%|█████████▎| 186/200 [1:00:16<04:37, 19.84s/it]"
          ]
        },
        {
          "name": "stdout",
          "output_type": "stream",
          "text": [
            "model saved\n",
            "Epoch 186/200, Train Loss: 0.8276,           Validation Loss: 0.9110, Duration: 0:00:20.471447, Best Val Epoch: 185\n"
          ]
        },
        {
          "name": "stderr",
          "output_type": "stream",
          "text": [
            "\r 94%|█████████▎| 187/200 [1:00:35<04:15, 19.66s/it]"
          ]
        },
        {
          "name": "stdout",
          "output_type": "stream",
          "text": [
            "Epoch 187/200, Train Loss: 0.8281,           Validation Loss: 0.9110, Duration: 0:00:19.243939, Best Val Epoch: 185\n"
          ]
        },
        {
          "name": "stderr",
          "output_type": "stream",
          "text": [
            "\r 94%|█████████▍| 188/200 [1:00:54<03:53, 19.44s/it]"
          ]
        },
        {
          "name": "stdout",
          "output_type": "stream",
          "text": [
            "Epoch 188/200, Train Loss: 0.8286,           Validation Loss: 0.9112, Duration: 0:00:18.927241, Best Val Epoch: 185\n"
          ]
        },
        {
          "name": "stderr",
          "output_type": "stream",
          "text": [
            "\r 94%|█████████▍| 189/200 [1:01:13<03:31, 19.27s/it]"
          ]
        },
        {
          "name": "stdout",
          "output_type": "stream",
          "text": [
            "Epoch 189/200, Train Loss: 0.8281,           Validation Loss: 0.9111, Duration: 0:00:18.862679, Best Val Epoch: 185\n"
          ]
        },
        {
          "name": "stderr",
          "output_type": "stream",
          "text": [
            "\r 95%|█████████▌| 190/200 [1:01:32<03:11, 19.16s/it]"
          ]
        },
        {
          "name": "stdout",
          "output_type": "stream",
          "text": [
            "Epoch 190/200, Train Loss: 0.8285,           Validation Loss: 0.9111, Duration: 0:00:18.897206, Best Val Epoch: 185\n"
          ]
        },
        {
          "name": "stderr",
          "output_type": "stream",
          "text": [
            "\r 96%|█████████▌| 191/200 [1:01:51<02:52, 19.12s/it]"
          ]
        },
        {
          "name": "stdout",
          "output_type": "stream",
          "text": [
            "Epoch 191/200, Train Loss: 0.8280,           Validation Loss: 0.9111, Duration: 0:00:19.033332, Best Val Epoch: 185\n"
          ]
        },
        {
          "name": "stderr",
          "output_type": "stream",
          "text": [
            "\r 96%|█████████▌| 192/200 [1:02:10<02:33, 19.21s/it]"
          ]
        },
        {
          "name": "stdout",
          "output_type": "stream",
          "text": [
            "Epoch 192/200, Train Loss: 0.8282,           Validation Loss: 0.9111, Duration: 0:00:19.408030, Best Val Epoch: 185\n"
          ]
        },
        {
          "name": "stderr",
          "output_type": "stream",
          "text": [
            "\r 96%|█████████▋| 193/200 [1:02:30<02:15, 19.35s/it]"
          ]
        },
        {
          "name": "stdout",
          "output_type": "stream",
          "text": [
            "Epoch 193/200, Train Loss: 0.8284,           Validation Loss: 0.9111, Duration: 0:00:19.682338, Best Val Epoch: 185\n"
          ]
        },
        {
          "name": "stderr",
          "output_type": "stream",
          "text": [
            "\r 97%|█████████▋| 194/200 [1:02:49<01:54, 19.16s/it]"
          ]
        },
        {
          "name": "stdout",
          "output_type": "stream",
          "text": [
            "Epoch 194/200, Train Loss: 0.8281,           Validation Loss: 0.9110, Duration: 0:00:18.723537, Best Val Epoch: 185\n"
          ]
        },
        {
          "name": "stderr",
          "output_type": "stream",
          "text": [
            "\r 98%|█████████▊| 195/200 [1:03:07<01:35, 19.02s/it]"
          ]
        },
        {
          "name": "stdout",
          "output_type": "stream",
          "text": [
            "Epoch 195/200, Train Loss: 0.8283,           Validation Loss: 0.9111, Duration: 0:00:18.673318, Best Val Epoch: 185\n"
          ]
        },
        {
          "name": "stderr",
          "output_type": "stream",
          "text": [
            "\r 98%|█████████▊| 196/200 [1:03:27<01:16, 19.18s/it]"
          ]
        },
        {
          "name": "stdout",
          "output_type": "stream",
          "text": [
            "Epoch 196/200, Train Loss: 0.8279,           Validation Loss: 0.9112, Duration: 0:00:19.542742, Best Val Epoch: 185\n"
          ]
        },
        {
          "name": "stderr",
          "output_type": "stream",
          "text": [
            "\r 98%|█████████▊| 197/200 [1:03:47<00:58, 19.34s/it]"
          ]
        },
        {
          "name": "stdout",
          "output_type": "stream",
          "text": [
            "Epoch 197/200, Train Loss: 0.8282,           Validation Loss: 0.9112, Duration: 0:00:19.718399, Best Val Epoch: 185\n"
          ]
        },
        {
          "name": "stderr",
          "output_type": "stream",
          "text": [
            "\r 99%|█████████▉| 198/200 [1:04:07<00:39, 19.68s/it]"
          ]
        },
        {
          "name": "stdout",
          "output_type": "stream",
          "text": [
            "Epoch 198/200, Train Loss: 0.8285,           Validation Loss: 0.9112, Duration: 0:00:20.483482, Best Val Epoch: 185\n"
          ]
        },
        {
          "name": "stderr",
          "output_type": "stream",
          "text": [
            "\r100%|█████████▉| 199/200 [1:04:27<00:19, 19.71s/it]"
          ]
        },
        {
          "name": "stdout",
          "output_type": "stream",
          "text": [
            "Epoch 199/200, Train Loss: 0.8280,           Validation Loss: 0.9112, Duration: 0:00:19.758281, Best Val Epoch: 185\n"
          ]
        },
        {
          "name": "stderr",
          "output_type": "stream",
          "text": [
            "100%|██████████| 200/200 [1:04:46<00:00, 19.43s/it]"
          ]
        },
        {
          "name": "stdout",
          "output_type": "stream",
          "text": [
            "Epoch 200/200, Train Loss: 0.8292,           Validation Loss: 0.9112, Duration: 0:00:19.277882, Best Val Epoch: 185\n"
          ]
        },
        {
          "name": "stderr",
          "output_type": "stream",
          "text": [
            "\n"
          ]
        },
        {
          "data": {
            "text/plain": [
              "<matplotlib.legend.Legend at 0x7f1727b4aa90>"
            ]
          },
          "execution_count": 8,
          "metadata": {},
          "output_type": "execute_result"
        },
        {
          "data": {
            "image/png": "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\n",
            "text/plain": [
              "<Figure size 1080x432 with 1 Axes>"
            ]
          },
          "metadata": {},
          "output_type": "display_data"
        }
      ],
      "source": [
        "print(\"------- List Hyper Parameters -------\")\n",
        "print(\"epochs   ->   \" + str(epochs))\n",
        "print(\"learningRate   ->   \" + str(lr))\n",
        "#print(\"training size   ->   \" + str(train_size))\n",
        "#print(\"testing size   ->   \" + str(test_size))\n",
        "print(\"horizon    ->     \" + str(T))\n",
        "print(\"batch size   ->    \" + str(batch_size))\n",
        "print(\"Optimizer   ->    \" + str(optimizer))\n",
        "\n",
        "train_losses, val_losses = batch_gd(model, criterion, optimizer, \n",
        "                                     epochs)\n",
        "\n",
        "plt.figure(figsize=(15,6))\n",
        "plt.plot(train_losses, label='train loss')\n",
        "plt.plot(val_losses, label='validation loss')\n",
        "plt.legend()"
      ]
    },
    {
      "cell_type": "markdown",
      "metadata": {
        "id": "F7CF2CwUkn4G"
      },
      "source": [
        "### **Model Testing**"
      ]
    },
    {
      "cell_type": "code",
      "execution_count": null,
      "metadata": {
        "colab": {
          "background_save": true
        },
        "id": "TFg5d6CzTgWS",
        "outputId": "8d1c2dfd-ecff-4f59-e1dd-45504c121328"
      },
      "outputs": [
        {
          "name": "stdout",
          "output_type": "stream",
          "text": [
            "Test acc: 0.7256\n"
          ]
        }
      ],
      "source": [
        "model = torch.load('/content/drive/MyDrive/Output/FI/best_model_CTABL_SGD_3')\n",
        "\n",
        "n_correct = 0.\n",
        "n_total = 0.\n",
        "all_targets = []\n",
        "all_predictions = []\n",
        "\n",
        "for inputs, targets in test_loader:\n",
        "    # Move to GPU\n",
        "    inputs, targets = inputs.to(device, dtype=torch.float), targets.to(device, dtype=torch.int64)\n",
        "\n",
        "    # Forward pass\n",
        "    outputs = model(inputs)\n",
        "    #outputs = torch.squeeze(outputs)\n",
        "    # Get prediction\n",
        "    # torch.max returns both max and argmax\n",
        "    _, predictions = torch.max(outputs, 1)\n",
        "\n",
        "    # update counts\n",
        "    n_correct += (predictions == targets).sum().item()\n",
        "    n_total += targets.shape[0]\n",
        "\n",
        "    all_targets.append(targets.cpu().numpy())\n",
        "    all_predictions.append(predictions.cpu().numpy())\n",
        "\n",
        "test_acc = n_correct / n_total\n",
        "print(f\"Test acc: {test_acc:.4f}\")\n",
        "  \n",
        "all_targets = np.concatenate(all_targets)    \n",
        "all_predictions = np.concatenate(all_predictions)    "
      ]
    },
    {
      "cell_type": "code",
      "execution_count": null,
      "metadata": {
        "colab": {
          "background_save": true
        },
        "id": "0oOu5lwf6zw0",
        "outputId": "a7f1be3e-e874-4733-cead-ca3651a170cc"
      },
      "outputs": [
        {
          "name": "stdout",
          "output_type": "stream",
          "text": [
            "accuracy_score: 0.7256059553065421\n",
            "              precision    recall  f1-score   support\n",
            "\n",
            "           0     0.6779    0.6647    0.6712     38464\n",
            "           1     0.7947    0.7914    0.7931     65997\n",
            "           2     0.6497    0.6686    0.6590     35112\n",
            "\n",
            "    accuracy                         0.7256    139573\n",
            "   macro avg     0.7074    0.7082    0.7078    139573\n",
            "weighted avg     0.7260    0.7256    0.7258    139573\n",
            "\n"
          ]
        },
        {
          "data": {
            "image/png": "iVBORw0KGgoAAAANSUhEUgAAATUAAAEGCAYAAAAE8QIHAAAABHNCSVQICAgIfAhkiAAAAAlwSFlzAAALEgAACxIB0t1+/AAAADh0RVh0U29mdHdhcmUAbWF0cGxvdGxpYiB2ZXJzaW9uMy4yLjIsIGh0dHA6Ly9tYXRwbG90bGliLm9yZy+WH4yJAAAgAElEQVR4nO3de3wV9Z3/8dfn5EISAnIJd1DRAoogqFRFqQWrldp9aFtrRdd1a91FUay11ce2ddd26WW13bUXq21ZL223rbbWVunPC7ZVRFSQoCICcinKPZAE5GKAJOd8fn/MyRXImQM5OSeT9/PxmIdnZr4z88kx+fD9zvc78zV3R0QkKmLZDkBEpD0pqYlIpCipiUikKKmJSKQoqYlIpORnO4Dmuvcu9F6DS7IdRs7au6442yHkvng82xHktH31e6hN7LOjOcdFU7p79Y5w3/OStw7MdfepR3O9dOVUUus1uIQZv5uU7TBy1oLLx2Y7hJxnu/ZkO4Sc9krV74/6HNU74rw299hQZfMGrSk76gumKaeSmojkPgcSJLIdxmEpqYlIWhynznO3ma+kJiJpU01NRCLDceI5/HilkpqIpC2BkpqIRIQDcSU1EYkS1dREJDIcqNM9NRGJCsfV/BSRCHGI525OU1ITkfQETxTkLiU1EUmTEeeononPKCU1EUlL0FGgpCYiERGMU1NSE5EISaimJiJRoZqaiESKY8RzeCYAJTURSZuanyISGY5R63nZDuOwlNREJC3B4Fs1P0UkQtRRICKR4W7EXTU1EYmQhGpqIhIVQUdB7qaO3K1DikhOaugoCLOkYmZTzWyVma01s68eYv8PzOzN5LLazN5Pdc7cTbcikrPi7TBOzczygPuAC4FNwGIzm+PuKxrKuPutzcrfDJyW6ryqqYlIWhqeKAizpHAmsNbd17l7LfAocGkb5a8EHkl1UtXURCRtifC9n2VmVt5sfba7z05+HgJsbLZvE3DWoU5iZscBw4HnU11QSU1E0hI80B46qVW5+4R2uOw04A/uHk9VUElNRNLiGHXt85jUZmBYs/WhyW2HMg24KcxJu2RS27Egxtq7C/AEDPpMnGOvqz+ozPa5eaz/aT4YlI5McPLddQDs32qs/mYBByoMDMbeV0vRkByeheIInfHhCq6fuZRYnjP3qeE89sioFvvHnFrJ9JveYviJu7hr1pm8PH9o474vXL+MD5+9FTN4Y0l/fn7vOMjhcU1H4oxzqph+2zvE8pzn/jSUx34xvMX+U07fwfSvrGL4iL3c/bWxvPy3gY375ix+jvVrewBQWVHErFtT3vvOKe601+DbxcAIMxtOkMymAVe1LmRmJwG9gVfDnDSjSc3MpgI/AvKAB9z9rkxeLwyPw5rvFnDq7Fq6DXBev7IbfSfH6X5iU2KqWW9sfDCf8b86QEFPqK1uOv6dOwo49l/r6TMxQbyGqP2tAhCLOTfe8iZ33D6JqsoSfviz51n4yiA2ru/ZWGb7thLuuXsCl12xusWxJ59Szegx1dx03YUAfP/H8xg7roplS/t16M+QSbGYM+PfVvLvN55B1bYifvDrhSx8sR8b3y1tLFO5tZgffHMMn/mn9w46vvZAHjdfObEDI25v1i6Db9293sxmAnMJcsRD7r7czGYB5e4+J1l0GvCoe7jJRjOW1MJ012bD7rdjFB/rFA8Nvp/+U+NUv5BH9xObamtbH89j8BX1FCT/hgv7Bv/94O+Gx6HPxGAunbySDg29w4w8aQdbtnSnYmvwRzr/+aFMPHdLq6TWHYBEouUvtzsUFMbJz09g5uTnJ3h/Z7eOC74DjByziy2bSqjYHPwCzJ87kLMnb2+R1LZvLQbAE9H7V89pt5oa7v408HSrbXe2Wv9mOufMZE2tsbsWwMwaumuzmtRqt0G3AU0Jv9sAZ/eylv+D9q2PAQneuKYQjxvHz6ijz6QE+9Yb+T1g+a2F7N9s9Dorzglfqsdy9y0sR6Rv2T6qtjdl7KrKYkadvCPUse+s6Mtbb/Tj148/heH8+YkT2bihZ+oDO5G+/fZTVVHUuF61vYhRY3aFPr6wMMEPf72QeNx47OHhLJzXPxNhZlRXfUlk6O7aXONx2LchxrgHazmwzVh6bSETHj+A18Ou12Oc8fsDFA10VtxeSMWTeQz6TMoOmS5j0OC9DDtuD9dcfjEA3/nvlzhlbBXLl5VlObLcce0nP0J1ZREDh9Tw3Z+X897aUio2dZ5qv2M5/ZLIrKdbM5tuZuVmVv7BztqMX69wABzY1vQ/5MA2o1v/lk31bgOcsslxYgVQPNQpPs6p2WB0G+CUjkpQPNSxfCg7P87elVn/CttddVUxZf1rGtfL+u2juqo41LHnfGQzq1b0Yf/+fPbvz6f8tYGcfEp16gM7kerKIsoG7m9cL+u/n+rt4ZvY1ZVBLa9icwnLyvtw4qjd7R5jJgVT5OWHWrIhk3+Robpr3X22u09w9wndexdmMJxAz1OCZuS+TUaiDrY/m0ffyS1rWmVT4ry/OPhq6nbCvvVG8VCnxxinfo9Rm2yJ7XwtRsmJuTxX9ZFZ/U5vBg/Zy4CBH5Cfn+C88zex8JXBoY6t3F7CmHGVxGIJ8vISjB1XyYb1PTIcccdavbwnQ4bVMGBwTfD9XFTBohfDNSFLe9SRXxD8zvTsVcvJ499nw7rSFEflmmAy4zBLNmQylYbqru1olg8f+nody2YU4nEY+Kk43T/kvHtfPj1GJyibkqD3uQl2vJrH4k91w2JwwpfrKegVHH/CV+p461+7gUPp6ASDLote0zORiPHTH4/n299bQCzmPPfM8Wx4rydXX7ucNat6s+iVwYwYtYP/+NZCSktrOWviVq6+dgUzrv04C14cyqmnVXL/Q38FhyWLB/Daq+ESYmeRiMf46d0n8a37XicWc/4yZwgb1pVy9Q1rWbOiJ4vm92fE6F38+/+8SWnPOs48r5J/vOHv3Hj5uQwb/gEz71hBwiFm8IeHj2/RwdAZOGk9UdDhLGQv6ZGd3Oxi4Ic0ddd+p63yQ07p5TN+Nylj8XR2Cy4fm+0Qcp7t2pPtEHLaK1W/Z1ft9qOqQg0dc4zf9PtzQ5X9+inPLGmnJwpCy2ij91DdtSLSublbTtfUuuQTBSJy5IKOgtwdx6SkJiJp0hwFIhIhQUdB7o5TU1ITkbR11ScKRCSCcv2JAiU1EUmbZmgXkchwh7qEkpqIRETQ/FRSE5EIydZznWEoqYlIWjSkQ0QiRs1PEYmY9pijIFOU1EQkLUHvp579FJGI0OBbEYkcNT9FJDJyvfczd7swRCRnJTwWaknFzKaa2SozW2tmXz1Mmc+Z2QozW25mv011TtXURCQt7kZ9OwzpCDPhuZmNAL4GnOvuO80s5Qw3qqmJSNoSbqGWFBonPHf3WqBhwvPm/hW4z913Arj79lQnVVITkbQ03FMLmdTKGub1TS7Tm53qUBOeD2l1uZHASDN72cwWmtnUVPGp+SkiaUujo6DqKGeTygdGAJMJ5g6eb2Zj3f39tg4QEQmtHcephZnwfBOwyN3rgHfNbDVBklt8uJOq+SkiaUtgoZYUGic8N7NCggnP57Qq8wRBLQ0zKyNojq5r66SqqYlIWtyhvh1eEunu9WY2E5hL04Tny81sFlDu7nOS+z5uZiuAOHC7u1e3dV4lNRFJW3sNvj3UhOfufmezzw58ObmEoqQmImnRs58iEjmupCYiUaIH2kUkMtxz+4F2JTURSZMR1xR5IhIluqcW0p4VMV48tTjbYeSsuVv+kO0Qct5Fg8dnO4Sc5l5/9OdAzU8RiRIP7qvlKiU1EUmbej9FJDJcHQUiEjVqfopIpKj3U0Qiw11JTUQiRkM6RCRSdE9NRCLDMRLq/RSRKMnhipqSmoikSR0FIhI5OVxVU1ITkbR1ypqamd1LG/nY3b+YkYhEJKc5kEh0wqQGlHdYFCLSeTjQGWtq7v7L5utmVuLuNZkPSURyXXuNUzOzqcCPCOb9fMDd72q1//PA92mauf0n7v5AW+dMOdjEzCYmJxJ9J7k+zszuTz98EYkMD7m0wczygPuATwCjgSvNbPQhiv7O3ccnlzYTGoRIasAPgYuAagB3XwqcF+I4EYkkwz3cksKZwFp3X+futcCjwKVHG12oYcHuvrHVpvjRXlhEOrF2qKkBQ4DmuWVTcltrl5nZW2b2BzMbluqkYZLaRjM7B3AzKzCz24CVIY4TkShy8ISFWoAyMytvtkxP82p/Bo5391OBvwC/TFE+1Di1Gwhu5A0BtgBzgZvSDExEIiV072eVu084zL7NQPOa11CaOgQAcPfqZqsPAN9LdcGUSc3dq4B/TFVORLqQ9un9XAyMMLPhBMlsGnBV8wJmNsjdtyZXLyFEKzFM7+cJZvZnM6s0s+1m9qSZnZB+/CISGe1wT82D+fpmErT+VgK/d/flZjbLzC5JFvuimS03s6XAF4HPpwotTPPztwTdrp9Ork8DHgHOCnGsiERNOw6+dfengadbbbuz2eevAV9L55xhOgpK3P3/3L0+ufwaKErnIiISLe7hlmxo69nPPsmPz5jZVwnGkDhwBa0yq4h0MZ302c8lBEmsIfrrm+1z0qwSikh0WGd89ZC7D+/IQESkkwg3sDZrQr1PzczGEDyb1Xgvzd1/lamgRCSXWed8S0cDM/sGMJkgqT1N8PDpAkBJTaSryuGaWpjez88CHwMq3P1aYBxwTEajEpHclgi5ZEGYpLbP3RNAvZn1BLbT8tGGTm/C5N088NI7PPzySj43c9tB+8ectZefzF3N0xuWMumT72chwo63+IUeXDfpJD5/zsn87t7+B+3/2TcGM+OCUcy4YBRfmHQSnzlpbOO+B749iOlTRjF9yijmPdmrI8POii73+9MwTi3MkgVh7qmVm1kv4H8JekT3Aq+mOsjMHgL+Adju7mOOKsoMisWcm767ma9NO4GqrQXc+/QaFs49hg1rmobiVW4u5H++NIzP3lCZxUg7TjwO9319KP/16N8pG1THzReP5OyLdnHcyAONZW74zy2Nn598sIy1bxcDsOivPVm7rISf/mUVdbUxbr/sQ3z4/N1075Glf7YzrKv+/uRy72fKmpq73+ju77v7z4ALgX9ONkNT+QUw9Sjjy7hRp9Ww5b1CKjZ0o74uxrwnezHxol0tymzbVMi7K4tJRPPv8iCr3ihh8PEHGHRcLQWFzuRLd/Lq3MPfcXjhid5M/tROADas7sbYs/eSlw9FJQmGn7yP8hd6dlToHa7L/v60z6uHMuKwSc3MTm+9AH2A/OTnNrn7fGBHO8aaEX0H1lG5pbBxvWprAWWD6rIYUfZVVxTQb3DTd1A2qI6qrQWHLLttUwHbNhYyftJeAE4YvZ/yF3qwv8bYVZ3H0ldKqdxy6GOjQL8/uaet5uf/tLHPgfPbI4Dk+5WmAxRR0h6nlA4074neTPrk++TlBetnTN7DqqUl3HrJSI7pW8/JZ3xALC+7MUr7y+XmZ1uDb6d0RADuPhuYDdDT+nT4VxXUSmob19uqlXQVQe2j6Ttoq/bx4pO9uOm7m1psu+qWbVx1S3DD/L9uPI6hJ+zPXLBZ1iV/f5ycfkwq1Ou8o2zVmyUMGV7LgGEHyC9IMPnS91n4XNcesTJqfA2b3+1GxYZC6mqNeU/25uyP7z6o3IY13di7K5/RE5omGYvHYfeOoGq2bkUR764s4oyP7umw2Dtal/39yeF7al1+hvZE3LjvjiF897friOXBc4/2Yf3qIq65vYLVS4tZ+NwxjBxXw50PvkePXnHOvnA319xWwfQpJ2U79IzJy4ebvrOJr191Aom48fFpOzh+1H5++b2BjBxXw8SLggT34pO9+eilO7Fm/2jH64yvfHoEACU94vzbvRvIi/BvWVf9/cnl5qd5ht4PYmaPEDyJUAZsA77h7g+2dUxP6+Nn2ccyEk8UzN3yZrZDyHkXDR6f7RBy2iL/G7t9x1G1HbsNG+ZDv3RrqLLrbvvKkjZe550RYR6TMoLXeZ/g7rPM7FhgoLu/1tZx7n5lO8UoIrkmh2tqYe6p3Q9MBBqS1B6CN+GKSBdkHn7JhjB3O85y99PN7A0Ad99pZoWpDhKRCMvh3s8wSa0uOT28A5hZP7L2qKqI5IJc7igI0/z8MfAnoL+ZfYfgtUPfzWhUIpLbOvOQDnf/jZktIXj9kAGfcnfN0C7SVWXxflkYYXo/jwVqCKZ/b9zm7hsyGZiI5LAcTmphmp9PAf8v+d+/AeuAZzIZlIjkNkuEW1Kex2yqma0ys7XJWesOV+4yM3MzSznmLUzzc2zz9eQbOm5MHa6IyOElOyDvI3il2SZgsZnNcfcVrcr1AG4BFoU5b9rPfrr762h2dpGurX06Cs4E1rr7OnevJZhb+NJDlPsWcDcQ6s0IYe6pfbnZagw4HdhymOIiEnXpdRSUmVl5s/XZyTfzAAwBNjbbt4lWFaZky3CYuz9lZreHuWCYcWo9mn2uJ7i39niYk4tIRIVPalVH+uynmcWAe4DPp3Ncm0kt2ebt4e63HUlQIhJR7dP7uZmWkzgNTW5r0AMYA8wLHkFnIDDHzC5x9+a1vxYOm9TMLN/d683s3KMKW0QixQjXsxnCYmCEmQ0nSGbTgKsadrr7LoK3/ATXNZsH3NZWQoO2a2qvEdw/e9PM5gCPAR80u+Af0/8ZRKTTa6fBt8lK00xgLpAHPOTuy81sFlDu7nOO5Lxh7qkVAdUEcxI4QaJ2QElNpKtqp8G37v408HSrbXcepuzkMOdsK6n1T/Z8vk1TMms8f5iTi0hE5XAGaCup5QGltExmDXL4RxKRTOusz35udfdZHRaJiHQenTSp5e5b4EQke7zdej8zoq2kphlQROTQOmNNzd13dGQgItJ5dNZ7aiIih6akJiKRkcVXdYehpCYiaTHU/BSRiFFSE5FoUVITkUhRUhORyOjsU+SJiBxESU1EoqSzPibV4Sw/n7yy/tkOI2ddPOWz2Q4h513w9hvZDiGnrfxcvF3Oo+aniESHBt+KSOQoqYlIVOiJAhGJHEvkblZTUhOR9OiemohEjZqfIhItOZzUYtkOQEQ6H/NwS8rzmE01s1VmttbMvnqI/TeY2TIze9PMFpjZ6FTnVFITkfR5yKUNZpYH3Ad8AhgNXHmIpPVbdx/r7uOB7wH3pApNSU1E0pOcTSrMksKZwFp3X+futcCjwKUtLuW+u9lqd0I0fHVPTUTSkuY4tTIzK2+2PtvdZyc/DwE2Ntu3CTjroOuZ3QR8GSgEzk91QSU1EUmfh85qVe4+4egu5fcB95nZVcC/A//cVnk1P0Ukbe3UUbAZGNZsfWhy2+E8Cnwq1UmV1EQkPWE7CVIntcXACDMbbmaFwDRgTvMCZjai2eongTWpTqrmp4ikrT3ep+bu9WY2E5gL5AEPuftyM5sFlLv7HGCmmV0A1AE7SdH0BCU1ETkC7fWSSHd/Gni61bY7m32+Jd1zKqmJSHqcdDoKOpySmoikTc9+iki0KKmJSFToJZEiEi3uekmkiERM7uY0JTURSZ+anyISHQ6o+SkikZK7OU1JTUTSp+aniESKej9FJDo0RZ6IREkw+DZ3s5qSmoikr53e0pEJSmoikjbV1HLMGedUcf3tq4jFnLlPDOGxh4e32D/m9J1Mv20Vw0fs5a6vjeXlvw5o3Pfn8r/w3tpSACoripj1pdM6NPaOcsaHK7h+5lJiec7cp4bz2COjWuwfc2ol0296i+En7uKuWWfy8vyhjfu+cP0yPnz2VszgjSX9+fm94wgaLdFRtSCP1XcV4XEYclkdx/9L7UFltj2bz7r7C8GgdFSCsd/bz47X8lh9d7fGMjXvxhjz/f30/1h9R4Z/dLrqPTUzGwb8ChhA8BXMdvcfZep6YcVizo1ffYc7ZpxO1bYifvibRSx8sR8b15U2ltm+tYh7vnEKl12z/qDjaw/kcfO0iR0ZcoeLxZwbb3mTO26fRFVlCT/82fMsfGUQG9f3bCyzfVsJ99w9gcuuWN3i2JNPqWb0mGpuuu5CAL7/43mMHVfFsqX9OvRnyCSPw6pvF3Ha/9ZQNNB57YoSyqbUU3piU5usZr3x7gOFTPi/GgqOgdrqIKn3OTPO2Y/XAFC3C17+RCl9z+lECQ2ArvvsZz3wFXd/3cx6AEvM7C/uviKD10xp5JhdbNlYQsXmEgDmzx3IxMmVrZJaMQCJHL5vkEkjT9rBli3dqdgafCfznx/KxHO3tEpq3QFIJFrWwNyhoDBOfn4CMyc/P8H7O7sRJbuWxSg+NkHJsOAPe8An6ql8Pp/SE5tqa5v/UMiwaXUUHBOsF/Y9OAlse66Aso/Uk1fcIWG3r67Y/HT3rcDW5Oc9ZraSYJ6/rCa1vv0PULWt6Y+sals3Ro3Z3cYRLRUWJvjRbxYSr4/x2MPH8+q8/pkIM6v6lu2jantJ43pVZTGjTt4R6th3VvTlrTf68evHn8Jw/vzEiWzc0DP1gZ3Ige0xigY2/YtXNCDBrmV5LcrUrDcgxuKrS/AEnHDjAcomxVuU2fZMPsdec3CzNed5+73OOxM65J6amR0PnAYs6ojrZdLnL55EdWURA4fU8F+zl/Du2lIqNpWkPrCLGDR4L8OO28M1l18MwHf++yVOGVvF8mVlWY6sY3m9UbMezni4hgPbjPJ/LuHsP31AQTK/H6g09q6J0ffceNsnylU5XFPL+BR5ZlYKPA58qdUU8g37p5tZuZmV1yb2ZTocqrd3o2zAgcb1sgEHqK4M3zyqriwCoGJzCW+V9+bEk/a0e4zZVl1VTFn/msb1sn77qK4K10Y65yObWbWiD/v357N/fz7lrw3k5FOqMxVqVnTrn2B/RdOfzv5tMbr1b/lH3m1Agn5T6okVQPFQp+T4BDXrm47Z9mw+/T8W7O+U2meKvIzIaFIzswKChPYbd//jocq4+2x3n+DuEwpjmb+5sHp5TwYfW8OAwfvIz09w3kUVLJwX7iZ2aY868guCenfPXrWMHv8+G9Z1z2S4WbH6nd4MHrKXAQM/CL6j8zex8JXBoY6t3F7CmHGVxGIJ8vISjB1XyYb1PTIcccfqOSbBvg0x9m0yEnVBM7LflJY3+/t9rJ6di4OGUO1Oo+a9GMXDmtpsFc8UMODiztZB0MQSiVBLNmSy99OAB4GV7n5Ppq6TrkQ8xk/vHsW373+dWMx57snBbFhXytUz1rJmRU8WvdifEaN38R/3LKW0Zx1nnVfF1Tf8nRmfPYdhJ3zAzXesJOEQM3js4eEtOhiiIpGI8dMfj+fb31sQfEfPHM+G93py9bXLWbOqN4teGcyIUTv4j28tpLS0lrMmbuXqa1cw49qPs+DFoZx6WiX3P/RXcFiyeACvvRouIXYWsXwY9fX9vHF9CR6HwZ+uo/RDCf7+k0J6nhKn35Q4fc+Ns+OVfF69pATyYMRXDlDYKzh+32bjQIXRe0JnbXrSboNvzWwq8COCeT8fcPe7Wu3/MvAvBB2PlcAX3P3gYQnNj/EMtY3NbBLwErCMpq/g68l5/g7pmIL+PrHs8ozEEwm9onXDPROmPP5GtkPIafd+7lU2vb3rqAYNHtN9sJ89+vpQZZ8r/+YSd59wqH1mlgesBi4ENhHM2H5l8xESZjYFWOTuNWY2A5js7le0dc1M9n4uIGojLkUk0D6VoTOBte6+DsDMHgUupdkICXd/oVn5hcDVqU6a8Y4CEYkg93ALlDV0BCaX6c3OMgTY2Gx9U3Lb4VwHPJMqtC75mJSIHIX07qlVHa75mQ4zuxqYAHw0VVklNRFJWzv1bG4GhjVbH5rc1vJaZhcAdwAfdfcDrfe3puaniKQpZNMz9X23xcAIMxtuZoXANGBO8wJmdhrwc+ASd98eJjrV1EQkPU67dBS4e72ZzQTmEgzpeMjdl5vZLKDc3ecA3wdKgceCUWJscPdL2jqvkpqIpK+dxqklh3g93Wrbnc0+X5DuOZXURCRtekmkiESLkpqIRIY7xHP33UNKaiKSPtXURCRSlNREJDIc6KJzFIhIJDm47qmJSFQ46igQkYjRPTURiRQlNRGJjlAPq2eNkpqIpMfJ6Zm+ldREJH2qqYlIdOgxKRGJEgfXODURiRQ9USAikaJ7aiISGe7q/RSRiFFNTUSiw/F4PNtBHJaSmoikR68eEpHI0ZAOEYkKB1w1NRGJDNdLIkUkYnK5o8A8h7pmzawSWJ/tOJopA6qyHUQO0/eTWq59R8e5e7+jOYGZPUvwc4VR5e5Tj+Z66cqppJZrzKzc3SdkO45cpe8nNX1HHS+W7QBERNqTkpqIRIqSWttmZzuAHKfvJzV9Rx1M99REJFJUUxORSFFSE5FIUVI7BDObamarzGytmX012/HkGjN7yMy2m9nb2Y4lF5nZMDN7wcxWmNlyM7sl2zF1Jbqn1oqZ5QGrgQuBTcBi4Ep3X5HVwHKImZ0H7AV+5e5jsh1PrjGzQcAgd3/dzHoAS4BP6XeoY6imdrAzgbXuvs7da4FHgUuzHFNOcff5wI5sx5Gr3H2ru7+e/LwHWAkMyW5UXYeS2sGGABubrW9Cv5ByhMzseOA0YFF2I+k6lNREMsTMSoHHgS+5++5sx9NVKKkdbDMwrNn60OQ2kdDMrIAgof3G3f+Y7Xi6EiW1gy0GRpjZcDMrBKYBc7Ick3QiZmbAg8BKd78n2/F0NUpqrbh7PTATmEtwg/f37r48u1HlFjN7BHgVGGVmm8zsumzHlGPOBf4JON/M3kwuF2c7qK5CQzpEJFJUUxORSFFSE5FIUVITkUhRUhORSFFSE5FIUVLrRMwsnhwe8LaZPWZmJUdxrl+Y2WeTnx8ws9FtlJ1sZuccwTXeM7ODZh063PZWZfamea1vmtlt6cYo0aOk1rnsc/fxyTdj1AI3NN9pZkc0j6u7/0uKN0hMBtJOaiLZoKTWeb0EfChZi3rJzOYAK8wsz8y+b2aLzewtM7seglHuZvaT5Hvi/gr0bziRmc0zswnJz1PN7HUzW2pmf0s+kH0DcGuylvgRM+tnZo8nr7HYzM5NHtvXzJ5LvkPsAcBS/RBm9oSZLUkeM73Vvh8kt//NzPolt51oZs8mj3nJzE5qjy9TokMztHdCyRrZJ4Bnk5tOB8a4+7vJxLDL3T9sZt2Al83sOZo7BH8AAAIUSURBVII3RYwCRgMDgBXAQ63O2w/4X+C85Ln6uPsOM/sZsNfd/ztZ7rfAD9x9gZkdS/D0xcnAN4AF7j7LzD4JhHnS4AvJaxQDi83scXevBroD5e5+q5ndmTz3TIKJTG5w9zVmdhZwP3D+EXyNElFKap1LsZm9mfz8EsHzhecAr7n7u8ntHwdObbhfBhwDjADOAx5x9ziwxcyeP8T5zwbmN5zL3Q/3zrQLgNHBI44A9Ey+keI84DPJY58ys50hfqYvmtmnk5+HJWOtBhLA75Lbfw38MXmNc4DHml27W4hrSBeipNa57HP38c03JP+4P2i+CbjZ3ee2Kteezx7GgLPdff8hYgnNzCYTJMiJ7l5jZvOAosMU9+R132/9HYg0p3tq0TMXmJF89Q1mNtLMugPzgSuS99wGAVMOcexC4DwzG548tk9y+x6gR7NyzwE3N6yYWUOSmQ9cldz2CaB3iliPAXYmE9pJBDXFBjGgobZ5FUGzdjfwrpldnryGmdm4FNeQLkZJLXoeILhf9roFE6P8nKBG/idgTXLfrwjestGCu1cC0wmaektpav79Gfh0Q0cB8EVgQrIjYgVNvbD/SZAUlxM0QzekiPVZIN/MVgJ3ESTVBh8AZyZ/hvOBWcnt/whcl4xvOXrVurSit3SISKSopiYikaKkJiKRoqQmIpGipCYikaKkJiKRoqQmIpGipCYikfL/AWxwPV92MWylAAAAAElFTkSuQmCC\n",
            "text/plain": [
              "<Figure size 432x288 with 2 Axes>"
            ]
          },
          "metadata": {},
          "output_type": "display_data"
        }
      ],
      "source": [
        "print('accuracy_score:', accuracy_score(all_targets, all_predictions))\n",
        "print(classification_report(all_targets, all_predictions, digits=4))\n",
        "from sklearn.metrics import accuracy_score, classification_report, confusion_matrix, ConfusionMatrixDisplay\n",
        "\n",
        "c = confusion_matrix(all_targets, all_predictions, normalize=\"true\")\n",
        "disp = ConfusionMatrixDisplay(c)\n",
        "disp.plot()\n",
        "plt.show()"
      ]
    },
    {
      "cell_type": "code",
      "execution_count": null,
      "metadata": {
        "colab": {
          "background_save": true
        },
        "id": "ssM8YahuY5h1"
      },
      "outputs": [],
      "source": [
        "#np.save(\"/content/drive/MyDrive/Output/Pred_DCNNLSTM_DB2\", all_predictions)\n",
        "#np.save(\"/content/drive/MyDrive/Output/Pred_DB4norm\", all_targets)"
      ]
    }
  ],
  "metadata": {
    "accelerator": "GPU",
    "colab": {
      "provenance": []
    },
    "gpuClass": "premium",
    "kernelspec": {
      "display_name": "Python 3",
      "name": "python3"
    },
    "language_info": {
      "name": "python"
    }
  },
  "nbformat": 4,
  "nbformat_minor": 0
}
