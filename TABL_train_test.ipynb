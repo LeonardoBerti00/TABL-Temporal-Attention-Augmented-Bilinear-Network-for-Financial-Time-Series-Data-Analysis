{
  "cells": [
    {
      "cell_type": "markdown",
      "metadata": {
        "id": "P-PVsZeWjCiw"
      },
      "source": [
        "### **TABL**"
      ]
    },
    {
      "cell_type": "code",
      "execution_count": null,
      "metadata": {
        "id": "AVPONVeVw0nh"
      },
      "outputs": [],
      "source": [
        "# load packages\n",
        "\n",
        "import numpy as np\n",
        "import matplotlib.pyplot as plt\n",
        "from datetime import datetime\n",
        "from tqdm import tqdm \n",
        "from sklearn.metrics import accuracy_score, classification_report, confusion_matrix, ConfusionMatrixDisplay\n",
        "import torch\n",
        "from torch.utils import data\n",
        "import torch.nn as nn\n",
        "import torch.optim as optim\n",
        "\n",
        "device = torch.device(\"cuda:0\" if torch.cuda.is_available() else \"cpu\")\n"
      ]
    },
    {
      "cell_type": "markdown",
      "metadata": {
        "id": "aNdy1u5zjMaw"
      },
      "source": [
        "### **Data**\n",
        "The dataset in the folder Dataset is the FI-2010 dataset zipped and normalized. \n",
        "\n",
        "As in the original paper I used the firs 7 days to train and to validate, and the rest 3 days to do the the testing. "
      ]
    },
    {
      "cell_type": "code",
      "execution_count": null,
      "metadata": {
        "id": "ls5u0jngxkjl"
      },
      "outputs": [],
      "source": [
        "# please change the data_path to your local path and download the files you need from the web site of the dataset\n",
        "\n",
        "dec_data = np.loadtxt('/content/drive/MyDrive/Data/Train_Dst_NoAuction_ZScore_CF_7.txt')\n",
        "dec_train = dec_data[:, :int(dec_data.shape[1] * 0.8)]\n",
        "dec_val = dec_data[:, int(dec_data.shape[1] * 0.8):]\n",
        "\n",
        "dec_test1 = np.loadtxt('/content/drive/MyDrive/Data/Test_Dst_NoAuction_ZScore_CF_7.txt')\n",
        "dec_test2 = np.loadtxt('/content/drive/MyDrive/Data/Test_Dst_NoAuction_ZScore_CF_8.txt')\n",
        "dec_test3 = np.loadtxt('/content/drive/MyDrive/Data/Test_Dst_NoAuction_ZScore_CF_9.txt')\n",
        "dec_test = np.hstack((dec_test1, dec_test2, dec_test3))\n",
        "\n",
        "h = 2        #if h = 2, than horizon = 50\n",
        "\n",
        "y_train = dec_train[-h, :].flatten()\n",
        "y_val = dec_val[-h, :].flatten()\n",
        "y_test = dec_test[-h, :].flatten()\n",
        "\n",
        "y_train = y_train[9:] - 1\n",
        "y_val = y_val[9:] - 1\n",
        "y_test = y_test[9:] - 1 \n",
        "\n",
        "dec_train = dec_train[:40, :].T\n",
        "dec_val = dec_val[:40, :].T\n",
        "dec_test = dec_test[:40, :].T\n",
        "\n",
        "print(dec_train.shape)\n"
      ]
    },
    {
      "cell_type": "code",
      "execution_count": null,
      "metadata": {
        "id": "KspbKX4q8TRM"
      },
      "outputs": [],
      "source": [
        "#computing the weights for a weighted cross entropy loss\n",
        "\n",
        "y = np.concatenate((y_train, y_val, y_test))\n",
        "weights = torch.zeros(3, device=device)\n",
        "for i in range(y.shape[0]):\n",
        "  if (y[i] == 0):\n",
        "    weights[0] += 1\n",
        "  elif (y[i] == 1):\n",
        "    weights[1] += 1\n",
        "  else:\n",
        "    weights[2] += 1\n",
        "weights = weights / y.shape[0]\n",
        "print(weights)"
      ]
    },
    {
      "cell_type": "code",
      "execution_count": null,
      "metadata": {
        "id": "8x7PAu1LySOZ"
      },
      "outputs": [],
      "source": [
        "class Dataset(data.Dataset):\n",
        "    \"\"\"Characterizes a dataset for PyTorch\"\"\"\n",
        "    def __init__(self, x, y, num_classes, n, dim):\n",
        "        \"\"\"Initialization\"\"\" \n",
        "        self.num_classes = num_classes\n",
        "        self.dim = dim\n",
        "        self.x = x   \n",
        "        self.y = y\n",
        "        self.n = n\n",
        "\n",
        "        self.length = x.shape[0] - (T/10) -self.dim + 1\n",
        "        print(self.length)\n",
        "\n",
        "        x = torch.from_numpy(x)\n",
        "        self.x = torch.unsqueeze(x, 1)\n",
        "        self.y = torch.from_numpy(y)\n",
        "\n",
        "    def __len__(self):\n",
        "        \"\"\"Denotes the total number of samples\"\"\"\n",
        "        return int(self.length)\n",
        "\n",
        "    def __getitem__(self, i):\n",
        "        input = self.x[i:i+self.dim, :]\n",
        "        input = input.permute(1, 2, 0)\n",
        "        input = torch.squeeze(input)\n",
        "\n",
        "        return input, self.y[i]"
      ]
    },
    {
      "cell_type": "code",
      "execution_count": null,
      "metadata": {
        "colab": {
          "base_uri": "https://localhost:8080/"
        },
        "id": "7ndByE-Ajmq8",
        "outputId": "9b68ee43-4e8d-4483-c284-512fb31797e8"
      },
      "outputs": [
        {
          "name": "stdout",
          "output_type": "stream",
          "text": [
            "50936.0\n",
            "139573.0\n",
            "203786.0\n"
          ]
        }
      ],
      "source": [
        "#Hyperparameters\n",
        "\n",
        "batch_size = 256\n",
        "epochs = 200\n",
        "T = 50   #horizon    \n",
        "lr = 0.01\n",
        "num_classes = 3\n",
        "dim = 10\n",
        "n = 3 \n",
        "\n",
        "\n",
        "dataset_val = Dataset(dec_val, y_val, num_classes, n, dim)\n",
        "dataset_test = Dataset(dec_test, y_test, num_classes, n, dim)\n",
        "dataset_train = Dataset(dec_train, y_train, num_classes, n, dim)\n",
        "\n",
        "train_loader = torch.utils.data.DataLoader(dataset=dataset_train, batch_size=batch_size, shuffle=True)\n",
        "val_loader = torch.utils.data.DataLoader(dataset=dataset_val, batch_size=batch_size, shuffle=False)\n",
        "test_loader = torch.utils.data.DataLoader(dataset=dataset_test, batch_size=batch_size, shuffle=False)"
      ]
    },
    {
      "cell_type": "markdown",
      "metadata": {
        "id": "DEIIi2NwjtgC"
      },
      "source": [
        "### **Model Architecture**\n"
      ]
    },
    {
      "cell_type": "code",
      "execution_count": null,
      "metadata": {
        "id": "lhA2p2kcUj2q"
      },
      "outputs": [],
      "source": [
        "\n",
        "\n",
        "class TABL_layer(nn.Module):\n",
        "    def __init__(self, d2, d1, t1, t2):\n",
        "        super().__init__()\n",
        "        self.t1 = t1\n",
        "\n",
        "        weight = torch.Tensor(d2, d1)\n",
        "        self.W1 = nn.Parameter(weight)\n",
        "        nn.init.kaiming_uniform_(self.W1, nonlinearity='relu')\n",
        "        \n",
        "        weight2 = torch.Tensor(t1, t1)\n",
        "        self.W = nn.Parameter(weight2)\n",
        "        nn.init.constant_(self.W, 1/t1)\n",
        " \n",
        "        weight3 = torch.Tensor(t1, t2)\n",
        "        self.W2 = nn.Parameter(weight3)\n",
        "        nn.init.kaiming_uniform_(self.W2, nonlinearity='relu')\n",
        "\n",
        "        bias1 = torch.Tensor(d2, t2)\n",
        "        self.B = nn.Parameter(bias1)\n",
        "        nn.init.constant_(self.B, 0)\n",
        "\n",
        "        l = torch.Tensor(1,)\n",
        "        self.l = nn.Parameter(l)\n",
        "        nn.init.constant_(self.l, 0.5)\n",
        "\n",
        "        self.activation = nn.ReLU()\n",
        "\n",
        "    def forward(self, X):\n",
        "        \n",
        "        #maintaining the weight parameter between 0 and 1.\n",
        "        if (self.l[0] < 0): \n",
        "          l = torch.Tensor(1,)\n",
        "          self.l = nn.Parameter(l)\n",
        "          nn.init.constant_(self.l, 0.0)\n",
        "\n",
        "        if (self.l[0] > 1): \n",
        "          l = torch.Tensor(1,)\n",
        "          self.l = nn.Parameter(l)\n",
        "          nn.init.constant_(self.l, 1.0)\n",
        "     \n",
        "        #modelling the dependence along the first mode of X while keeping the temporal order intact (7)\n",
        "        X = self.W1 @ X\n",
        "\n",
        "        #enforcing constant (1) on the diagonal\n",
        "        W = self.W -self.W *torch.eye(self.t1,dtype=torch.float32).to(device)+torch.eye(self.t1,dtype=torch.float32).to(device)/self.t1\n",
        "\n",
        "        #attention, the aim of the second step is to learn how important the temporal instances are to each other (8)\n",
        "        E = X @ W\n",
        "\n",
        "        #computing the attention mask  (9)\n",
        "        A = torch.softmax(E, dim=-1)\n",
        "\n",
        "        #applying a soft attention mechanism  (10)\n",
        "        #he attention mask A obtained from the third step is used to zero out the effect of unimportant elements\n",
        "        X = self.l[0] * (X) + (1.0 - self.l[0])*X*A\n",
        "\n",
        "        #the final step of the proposed layer estimates the temporal mapping W2, after the bias shift (11)\n",
        "        y = X @ self.W2 + self.B\n",
        "        return y\n",
        "\n",
        "class BL_layer(nn.Module):\n",
        "  def __init__(self, d2, d1, t1, t2):\n",
        "        super().__init__()\n",
        "        weight1 = torch.Tensor(d2, d1)\n",
        "        self.W1 = nn.Parameter(weight1)\n",
        "        nn.init.kaiming_uniform_(self.W1, nonlinearity='relu')\n",
        "\n",
        "        weight2 = torch.Tensor(t1, t2)\n",
        "        self.W2 = nn.Parameter(weight2)\n",
        "        nn.init.kaiming_uniform_(self.W2, nonlinearity='relu')\n",
        "\n",
        "        bias1 = torch.zeros((d2, t2))\n",
        "        self.B = nn.Parameter(bias1)\n",
        "        nn.init.constant_(self.B, 0)\n",
        "\n",
        "        self.activation = nn.ReLU()\n",
        "\n",
        "  def forward(self, x):\n",
        "\n",
        "    x = self.activation(self.W1 @ x @ self.W2 + self.B)\n",
        "\n",
        "    return x\n",
        "\n",
        "\n",
        "class BTABL(nn.Module):\n",
        "  def __init__(self, d2, d1, t1, t2, d3, t3):\n",
        "    super().__init__()\n",
        "\n",
        "    self.BL = BL_layer(d2, d1, t1, t2)\n",
        "    self.TABL = TABL_layer(d3, d2, t2, t3)\n",
        "    self.dropout = nn.Dropout(0.1)\n",
        "\n",
        "  def forward(self, x):\n",
        "\n",
        "    self.max_norm_(self.BL.W1.data)\n",
        "    self.max_norm_(self.BL.W2.data)\n",
        "    x = self.BL(x)\n",
        "    x = self.dropout(x)\n",
        "\n",
        "    self.max_norm_(self.TABL.W1.data)\n",
        "    self.max_norm_(self.TABL.W.data)\n",
        "    self.max_norm_(self.TABL.W2.data)\n",
        "    x = self.TABL(x)\n",
        "    x = torch.squeeze(x)\n",
        "    x = torch.softmax(x, 1)\n",
        "    return x\n",
        "\n",
        "  def max_norm_(self, w):\n",
        "    with torch.no_grad():\n",
        "      if (torch.linalg.matrix_norm(w) > 10.0):\n",
        "        norm = torch.linalg.matrix_norm(w)\n",
        "        desired = torch.clamp(norm, min=0.0, max=10.0)\n",
        "        w *= (desired / (1e-8 + norm))\n",
        "\n",
        "\n",
        "\n",
        "class CTABL(nn.Module):\n",
        "  def __init__(self, d2, d1, t1, t2, d3, t3, d4, t4):\n",
        "    super().__init__()\n",
        "    \n",
        "    self.BL = BL_layer(d2, d1, t1, t2)\n",
        "    self.BL2 = BL_layer(d3, d2, t2, t3)\n",
        "    self.TABL = TABL_layer(d4, d3, t3, t4)\n",
        "    self.dropout = nn.Dropout(0.1)\n",
        "\n",
        "  def forward(self, x):\n",
        " \n",
        "    self.max_norm_(self.BL.W1.data)\n",
        "    self.max_norm_(self.BL.W2.data)\n",
        "    x = self.BL(x)\n",
        "    x = self.dropout(x)\n",
        "\n",
        "    self.max_norm_(self.BL2.W1.data)\n",
        "    self.max_norm_(self.BL2.W2.data)\n",
        "    x = self.BL2(x)\n",
        "    x = self.dropout(x)\n",
        "\n",
        "    self.max_norm_(self.TABL.W1.data)\n",
        "    self.max_norm_(self.TABL.W.data)\n",
        "    self.max_norm_(self.TABL.W2.data)\n",
        "    x = self.TABL(x)\n",
        "    x = torch.squeeze(x)\n",
        "    x = torch.softmax(x, 1)\n",
        "    return x\n",
        "    "
      ]
    },
    {
      "cell_type": "markdown",
      "metadata": {
        "id": "bejZgDmCkkHi"
      },
      "source": [
        "### **Model Training**\n",
        "\n",
        "I implemented the second setting of the experiment"
      ]
    },
    {
      "cell_type": "code",
      "execution_count": null,
      "metadata": {
        "id": "s_u5esKfTT-S"
      },
      "outputs": [],
      "source": [
        "#Choose between B(TABL) and C(TABL)\n",
        "#model = BTABL(120, 40, 10, 5, 3, 1)\n",
        "model = CTABL(60, 40, 10, 10, 120, 5, 3, 1)\n",
        "\n",
        "model.to(device)\n",
        "\n",
        "criterion = nn.CrossEntropyLoss()\n",
        "optimizer = torch.optim.SGD(model.parameters(), lr=0.01, momentum=0.9)\n",
        "\n",
        "def batch_gd(model, criterion, optimizer, epochs):\n",
        "    \n",
        "    train_losses = np.zeros(epochs)\n",
        "    test_losses = np.zeros(epochs)\n",
        "    best_test_loss = np.inf\n",
        "    best_test_epoch = 0\n",
        "    SC = [0.005, 0.001, 0.0005, 0.0001]\n",
        "    i = 0\n",
        "    for it in tqdm(range(epochs)):\n",
        "        \n",
        "        model.train()\n",
        "        t0 = datetime.now()\n",
        "        train_loss = []\n",
        "        for inputs, targets in train_loader:\n",
        "            # move data to GPU\n",
        "            inputs, targets = inputs.to(device, dtype=torch.float), targets.to(device, dtype=torch.int64)\n",
        "\n",
        "            # zero the parameter gradients\n",
        "            optimizer.zero_grad()\n",
        "\n",
        "            # Forward pass\n",
        "            outputs = model(inputs)\n",
        "            #outputs = torch.squeeze(outputs)\n",
        "            #print(outputs.shape)\n",
        "            #print(targets.shape)\n",
        "            loss = criterion(outputs, targets)\n",
        "\n",
        "            # Backward and optimize\n",
        "            loss.backward()\n",
        "            optimizer.step()\n",
        "\n",
        "            train_loss.append(loss.item())\n",
        "        # Get train loss and test loss\n",
        "        train_loss = np.mean(train_loss)\n",
        "        \n",
        "        if (train_losses[it-1] <= train_loss and i < 4 and it != 0):\n",
        "              for g in optimizer.param_groups:\n",
        "                g['lr'] = SC[i]\n",
        "              i += 1\n",
        "              print(optimizer)\n",
        "\n",
        "        model.eval()\n",
        "        test_loss = []\n",
        "        for inputs, targets in val_loader:\n",
        "            inputs, targets = inputs.to(device, dtype=torch.float), targets.to(device, dtype=torch.int64)      \n",
        "            outputs = model(inputs)\n",
        "            #outputs = torch.squeeze(outputs)\n",
        "            loss = criterion(outputs, targets)\n",
        "            test_loss.append(loss.item())\n",
        "        test_loss = np.mean(test_loss)\n",
        "\n",
        "        # Save losses\n",
        "        train_losses[it] = train_loss\n",
        "        test_losses[it] = test_loss\n",
        "        \n",
        "        #We save the best model\n",
        "        if test_loss < best_test_loss:\n",
        "            torch.save(model, '/best_model_CTABL')\n",
        "            best_test_loss = test_loss\n",
        "            best_test_epoch = it\n",
        "            print('model saved')\n",
        "\n",
        "        dt = datetime.now() - t0\n",
        "        print(f'Epoch {it+1}/{epochs}, Train Loss: {train_loss:.4f}, \\\n",
        "          Validation Loss: {test_loss:.4f}, Duration: {dt}, Best Val Epoch: {best_test_epoch}')\n",
        "        \n",
        "    #torch.save(model, '/content/drive/MyDrive/Output/best_model_translob_FI')\n",
        "    return train_losses, test_losses"
      ]
    },
    {
      "cell_type": "code",
      "execution_count": null,
      "metadata": {
        "colab": {
          "background_save": true
        },
        "id": "x9vq-ZAzTb6K"
      },
      "outputs": [],
      "source": [
        "print(\"------- List Hyper Parameters -------\")\n",
        "print(\"epochs   ->   \" + str(epochs))\n",
        "print(\"learningRate   ->   \" + str(lr))\n",
        "print(\"horizon    ->     \" + str(T))\n",
        "print(\"batch size   ->    \" + str(batch_size))\n",
        "print(\"Optimizer   ->    \" + str(optimizer))\n",
        "\n",
        "train_losses, val_losses = batch_gd(model, criterion, optimizer, \n",
        "                                     epochs)\n",
        "\n",
        "plt.figure(figsize=(15,6))\n",
        "plt.plot(train_losses, label='train loss')\n",
        "plt.plot(val_losses, label='validation loss')\n",
        "plt.legend()"
      ]
    },
    {
      "cell_type": "markdown",
      "metadata": {
        "id": "F7CF2CwUkn4G"
      },
      "source": [
        "### **Model Testing**"
      ]
    },
    {
      "cell_type": "code",
      "execution_count": null,
      "metadata": {
        "colab": {
          "background_save": true
        },
        "id": "TFg5d6CzTgWS",
        "outputId": "8d1c2dfd-ecff-4f59-e1dd-45504c121328"
      },
      "outputs": [
        {
          "name": "stdout",
          "output_type": "stream",
          "text": [
            "Test acc: 0.7256\n"
          ]
        }
      ],
      "source": [
        "model = torch.load('/best_model_CTABL')\n",
        "\n",
        "n_correct = 0.\n",
        "n_total = 0.\n",
        "all_targets = []\n",
        "all_predictions = []\n",
        "\n",
        "for inputs, targets in test_loader:\n",
        "    # Move to GPU\n",
        "    inputs, targets = inputs.to(device, dtype=torch.float), targets.to(device, dtype=torch.int64)\n",
        "\n",
        "    # Forward pass\n",
        "    outputs = model(inputs)\n",
        "    #outputs = torch.squeeze(outputs)\n",
        "    # Get prediction\n",
        "    # torch.max returns both max and argmax\n",
        "    _, predictions = torch.max(outputs, 1)\n",
        "\n",
        "    # update counts\n",
        "    n_correct += (predictions == targets).sum().item()\n",
        "    n_total += targets.shape[0]\n",
        "\n",
        "    all_targets.append(targets.cpu().numpy())\n",
        "    all_predictions.append(predictions.cpu().numpy())\n",
        "\n",
        "test_acc = n_correct / n_total\n",
        "print(f\"Test acc: {test_acc:.4f}\")\n",
        "  \n",
        "all_targets = np.concatenate(all_targets)    \n",
        "all_predictions = np.concatenate(all_predictions)    "
      ]
    },
    {
      "cell_type": "code",
      "execution_count": null,
      "metadata": {
        "colab": {
          "background_save": true
        },
        "id": "0oOu5lwf6zw0",
        "outputId": "a7f1be3e-e874-4733-cead-ca3651a170cc"
      },
      "outputs": [
        {
          "name": "stdout",
          "output_type": "stream",
          "text": [
            "accuracy_score: 0.7256059553065421\n",
            "              precision    recall  f1-score   support\n",
            "\n",
            "           0     0.6779    0.6647    0.6712     38464\n",
            "           1     0.7947    0.7914    0.7931     65997\n",
            "           2     0.6497    0.6686    0.6590     35112\n",
            "\n",
            "    accuracy                         0.7256    139573\n",
            "   macro avg     0.7074    0.7082    0.7078    139573\n",
            "weighted avg     0.7260    0.7256    0.7258    139573\n",
            "\n"
          ]
        },
        {
          "data": {
            "image/png": "[encoded data removed]",
            "text/plain": [
              "<Figure size 432x288 with 2 Axes>"
            ]
          },
          "metadata": {},
          "output_type": "display_data"
        }
      ],
      "source": [
        "print('accuracy_score:', accuracy_score(all_targets, all_predictions))\n",
        "print(classification_report(all_targets, all_predictions, digits=4))\n",
        "from sklearn.metrics import accuracy_score, classification_report, confusion_matrix, ConfusionMatrixDisplay\n",
        "\n",
        "c = confusion_matrix(all_targets, all_predictions, normalize=\"true\")\n",
        "disp = ConfusionMatrixDisplay(c)\n",
        "disp.plot()\n",
        "plt.show()"
      ]
    }
  ],
  "metadata": {
    "accelerator": "GPU",
    "colab": {
      "provenance": []
    },
    "gpuClass": "premium",
    "kernelspec": {
      "display_name": "Python 3",
      "name": "python3"
    },
    "language_info": {
      "name": "python"
    }
  },
  "nbformat": 4,
  "nbformat_minor": 0
}
